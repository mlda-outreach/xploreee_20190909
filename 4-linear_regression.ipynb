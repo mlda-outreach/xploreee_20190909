{
 "cells": [
  {
   "cell_type": "markdown",
   "metadata": {},
   "source": [
    "# Outline\n",
    "Important concepts:\n",
    "1. What is regression\n",
    "2. train-test split\n",
    "3. numericalize discrete variables"
   ]
  },
  {
   "cell_type": "markdown",
   "metadata": {},
   "source": [
    "# Import libraries and data"
   ]
  },
  {
   "cell_type": "code",
   "execution_count": null,
   "metadata": {
    "ExecuteTime": {
     "end_time": "2019-09-08T07:09:57.985965Z",
     "start_time": "2019-09-08T07:09:57.593098Z"
    },
    "colab": {},
    "colab_type": "code",
    "id": "9VPxHlfzJykm"
   },
   "outputs": [],
   "source": [
    "# import libraries\n",
    "\n"
   ]
  },
  {
   "cell_type": "code",
   "execution_count": null,
   "metadata": {
    "ExecuteTime": {
     "end_time": "2019-09-08T07:09:57.999677Z",
     "start_time": "2019-09-08T07:09:57.987506Z"
    },
    "colab": {
     "base_uri": "https://localhost:8080/",
     "height": 204
    },
    "colab_type": "code",
    "id": "2WaAC4AbKcPr",
    "outputId": "1e317093-d10f-4995-ea4f-b06a016dc655"
   },
   "outputs": [],
   "source": [
    "# import data\n",
    "\n"
   ]
  },
  {
   "cell_type": "markdown",
   "metadata": {},
   "source": [
    "# Linear regression with numerical values"
   ]
  },
  {
   "cell_type": "markdown",
   "metadata": {},
   "source": [
    "## Using 1 predictor variable only"
   ]
  },
  {
   "cell_type": "code",
   "execution_count": null,
   "metadata": {
    "ExecuteTime": {
     "end_time": "2019-09-08T07:09:58.005321Z",
     "start_time": "2019-09-08T07:09:58.001370Z"
    },
    "colab": {
     "base_uri": "https://localhost:8080/",
     "height": 326
    },
    "colab_type": "code",
    "id": "WcfGiDBlO21h",
    "outputId": "4a14b25c-cf2c-45b1-8356-0fc312ac3e74"
   },
   "outputs": [],
   "source": [
    "# represent data and label using numpy arrays\n",
    "\n"
   ]
  },
  {
   "cell_type": "code",
   "execution_count": null,
   "metadata": {
    "ExecuteTime": {
     "end_time": "2019-09-08T07:09:58.211920Z",
     "start_time": "2019-09-08T07:09:58.006826Z"
    }
   },
   "outputs": [],
   "source": [
    "# Splitting the dataset into the Training set and Test set\n",
    "\n"
   ]
  },
  {
   "cell_type": "code",
   "execution_count": null,
   "metadata": {
    "ExecuteTime": {
     "end_time": "2019-09-08T07:09:58.236995Z",
     "start_time": "2019-09-08T07:09:58.213404Z"
    }
   },
   "outputs": [],
   "source": [
    "# Fitting Linear Regression Model to the Training set\n",
    "\n"
   ]
  },
  {
   "cell_type": "code",
   "execution_count": null,
   "metadata": {
    "ExecuteTime": {
     "end_time": "2019-09-08T07:09:58.244200Z",
     "start_time": "2019-09-08T07:09:58.239099Z"
    }
   },
   "outputs": [],
   "source": [
    "# Predicting the Test set results\n",
    "\n"
   ]
  },
  {
   "cell_type": "code",
   "execution_count": null,
   "metadata": {
    "ExecuteTime": {
     "end_time": "2019-09-08T07:09:58.417872Z",
     "start_time": "2019-09-08T07:09:58.246180Z"
    }
   },
   "outputs": [],
   "source": [
    "# Compare predicted value with true value\n",
    "\n"
   ]
  },
  {
   "cell_type": "markdown",
   "metadata": {},
   "source": [
    "## Using all numerical predictor variables"
   ]
  },
  {
   "cell_type": "code",
   "execution_count": null,
   "metadata": {
    "ExecuteTime": {
     "end_time": "2019-09-08T07:09:58.424667Z",
     "start_time": "2019-09-08T07:09:58.420252Z"
    },
    "colab": {
     "base_uri": "https://localhost:8080/",
     "height": 326
    },
    "colab_type": "code",
    "id": "WcfGiDBlO21h",
    "outputId": "4a14b25c-cf2c-45b1-8356-0fc312ac3e74"
   },
   "outputs": [],
   "source": [
    "# represent data and label using numpy arrays\n",
    "\n"
   ]
  },
  {
   "cell_type": "code",
   "execution_count": null,
   "metadata": {
    "ExecuteTime": {
     "end_time": "2019-09-08T07:09:58.434237Z",
     "start_time": "2019-09-08T07:09:58.426637Z"
    }
   },
   "outputs": [],
   "source": [
    "# Splitting the dataset into the Training set and Test set\n",
    "\n"
   ]
  },
  {
   "cell_type": "code",
   "execution_count": null,
   "metadata": {
    "ExecuteTime": {
     "end_time": "2019-09-08T07:09:58.444143Z",
     "start_time": "2019-09-08T07:09:58.435517Z"
    }
   },
   "outputs": [],
   "source": [
    "# Fitting Linear Regression Model to the Training set\n",
    "\n"
   ]
  },
  {
   "cell_type": "code",
   "execution_count": null,
   "metadata": {
    "ExecuteTime": {
     "end_time": "2019-09-08T07:09:58.454833Z",
     "start_time": "2019-09-08T07:09:58.445636Z"
    }
   },
   "outputs": [],
   "source": [
    "# Predicting the Test set results\n",
    "\n"
   ]
  },
  {
   "cell_type": "code",
   "execution_count": null,
   "metadata": {
    "ExecuteTime": {
     "end_time": "2019-09-08T07:09:58.653109Z",
     "start_time": "2019-09-08T07:09:58.457356Z"
    }
   },
   "outputs": [],
   "source": [
    "# Compare predicted value with true value\n",
    "\n"
   ]
  },
  {
   "cell_type": "markdown",
   "metadata": {
    "ExecuteTime": {
     "end_time": "2019-09-08T06:10:47.054464Z",
     "start_time": "2019-09-08T06:10:47.050336Z"
    }
   },
   "source": [
    "## Adding discrete variables"
   ]
  },
  {
   "cell_type": "code",
   "execution_count": null,
   "metadata": {
    "ExecuteTime": {
     "end_time": "2019-09-08T07:09:58.659556Z",
     "start_time": "2019-09-08T07:09:58.654674Z"
    }
   },
   "outputs": [],
   "source": [
    "# represent data and label using numpy arrays\n",
    "\n"
   ]
  },
  {
   "cell_type": "code",
   "execution_count": null,
   "metadata": {
    "ExecuteTime": {
     "end_time": "2019-09-08T07:09:58.670197Z",
     "start_time": "2019-09-08T07:09:58.660890Z"
    }
   },
   "outputs": [],
   "source": [
    "# Encoding categorical data\n",
    "\n"
   ]
  },
  {
   "cell_type": "code",
   "execution_count": null,
   "metadata": {
    "ExecuteTime": {
     "end_time": "2019-09-08T07:09:58.699309Z",
     "start_time": "2019-09-08T07:09:58.696568Z"
    },
    "colab": {},
    "colab_type": "code",
    "id": "bSJqFJAFohPo"
   },
   "outputs": [],
   "source": [
    "# Splitting the dataset into the Training set and Test set\n",
    "\n"
   ]
  },
  {
   "cell_type": "code",
   "execution_count": null,
   "metadata": {
    "ExecuteTime": {
     "end_time": "2019-09-08T07:09:58.709100Z",
     "start_time": "2019-09-08T07:09:58.700650Z"
    },
    "colab": {
     "base_uri": "https://localhost:8080/",
     "height": 34
    },
    "colab_type": "code",
    "id": "Qh3V-cwEP88y",
    "outputId": "6888b712-1d58-4ae3-b7cc-b2779adb33d6"
   },
   "outputs": [],
   "source": [
    "# Fitting Linear Regression Model to the Training set\n",
    "\n"
   ]
  },
  {
   "cell_type": "code",
   "execution_count": null,
   "metadata": {
    "ExecuteTime": {
     "end_time": "2019-09-08T07:09:58.722627Z",
     "start_time": "2019-09-08T07:09:58.710409Z"
    },
    "colab": {
     "base_uri": "https://localhost:8080/",
     "height": 68
    },
    "colab_type": "code",
    "id": "tJ2q3PF3ocdk",
    "outputId": "cd20acef-646e-46c6-9f3d-0ec31f92d2e7"
   },
   "outputs": [],
   "source": [
    "# Predicting the Test set results\n",
    "\n"
   ]
  },
  {
   "cell_type": "code",
   "execution_count": null,
   "metadata": {
    "ExecuteTime": {
     "end_time": "2019-09-08T07:09:58.852358Z",
     "start_time": "2019-09-08T07:09:58.723905Z"
    },
    "colab": {
     "base_uri": "https://localhost:8080/",
     "height": 286
    },
    "colab_type": "code",
    "id": "dJqEl47Go1gs",
    "outputId": "504486ee-6870-4b0b-e81a-374596b1d0a2"
   },
   "outputs": [],
   "source": [
    "# Compare predicted value with true value\n",
    "\n"
   ]
  },
  {
   "cell_type": "code",
   "execution_count": null,
   "metadata": {
    "ExecuteTime": {
     "end_time": "2019-09-08T07:09:58.970748Z",
     "start_time": "2019-09-08T07:09:58.853474Z"
    },
    "colab": {
     "base_uri": "https://localhost:8080/",
     "height": 286
    },
    "colab_type": "code",
    "id": "nhCFeWHCo-Ob",
    "outputId": "1423ffd8-9579-408b-adcd-b0998c07c89a"
   },
   "outputs": [],
   "source": [
    "# Analyse relation between 'Administration' and 'Profit'\n",
    "\n"
   ]
  }
 ],
 "metadata": {
  "colab": {
   "name": "regression.ipynb",
   "provenance": [],
   "version": "0.3.2"
  },
  "kernelspec": {
   "display_name": "(fastai) Python 3.7.2",
   "language": "python",
   "name": "fastai"
  },
  "language_info": {
   "codemirror_mode": {
    "name": "ipython",
    "version": 3
   },
   "file_extension": ".py",
   "mimetype": "text/x-python",
   "name": "python",
   "nbconvert_exporter": "python",
   "pygments_lexer": "ipython3",
   "version": "3.7.2"
  },
  "toc": {
   "base_numbering": 1,
   "nav_menu": {},
   "number_sections": false,
   "sideBar": true,
   "skip_h1_title": false,
   "title_cell": "Table of Contents",
   "title_sidebar": "Contents",
   "toc_cell": false,
   "toc_position": {},
   "toc_section_display": true,
   "toc_window_display": false
  }
 },
 "nbformat": 4,
 "nbformat_minor": 2
}
