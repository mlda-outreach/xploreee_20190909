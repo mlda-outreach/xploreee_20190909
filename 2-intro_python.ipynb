{
 "cells": [
  {
   "cell_type": "markdown",
   "metadata": {},
   "source": [
    "# Part 2 - Python Basics"
   ]
  },
  {
   "cell_type": "markdown",
   "metadata": {},
   "source": [
    "# Outline\n",
    "\n",
    "**1. Before Tutorial**\n",
    "+ Tut 1a: Suggestions\n",
    "+ Tut 1b: Introduction to Jupyter Notebook\n",
    "\n",
    "\n",
    "**2. Python Basics** \n",
    "+ Tut 2a: Data Types\n",
    "+ Tut 2b: Flow Control\n",
    "+ Tut 2c: Loops\n",
    "+ Tut 2d: Function\n",
    "+ Exercises"
   ]
  },
  {
   "cell_type": "markdown",
   "metadata": {},
   "source": [
    "# Before Tutorial\n",
    "## Tut 1a. Suggestions "
   ]
  },
  {
   "cell_type": "markdown",
   "metadata": {},
   "source": [
    "+ Try every code in the tutorial\n",
    "+ In the class, interrupt me any time if you have any questions\n",
    "+ After class, search by Google first if you meet any problem"
   ]
  },
  {
   "cell_type": "markdown",
   "metadata": {},
   "source": [
    "## Tut 1b. Introduction to Jupyter Notebook"
   ]
  },
  {
   "cell_type": "markdown",
   "metadata": {
    "collapsed": true
   },
   "source": [
    "*Notebook Document* (.ipynb): Notebook documents are both human-readable documents containing the analysis description and the results (figures, tables, etc..) as well as executable documents which can be run to perform data analysis. \n",
    "\n",
    "*Jupyter Notebook*: The Jupyter Notebook App is a server-client application that allows editing and running notebook documents via a web browser. The basic component of Jupyter Notebook is cell.\n",
    "\n",
    "+ `Markdown Cell` for Rich Text ( [Tutorial](https://www.markdowntutorial.com) )\n",
    "+ `Code Cell` for Excutable Code"
   ]
  },
  {
   "cell_type": "markdown",
   "metadata": {},
   "source": [
    "### This is a simple Markdown example\n",
    "\n",
    "we can make a list:\n",
    "+ The core Python language\n",
    "+ 100+ Packages (toolbox)\n",
    "+ Jupyter Notebook and Spyder\n",
    "+ `conda` package manager\n",
    "\n",
    "we can attach a link:\n",
    "  [link here](http://www.ntu.edu.sg/Pages/home.aspx)"
   ]
  },
  {
   "cell_type": "markdown",
   "metadata": {},
   "source": [
    "### This is an example of excutable document (code)"
   ]
  },
  {
   "cell_type": "code",
   "execution_count": null,
   "metadata": {
    "ExecuteTime": {
     "end_time": "2019-09-08T07:30:10.019559Z",
     "start_time": "2019-09-08T07:30:10.015950Z"
    }
   },
   "outputs": [],
   "source": [
    "print(\"I love NTU\")    # basic output statement in Python\n",
    "print(\"I love Data Science\")\n",
    "print(\"I love Python!!!\")"
   ]
  },
  {
   "cell_type": "markdown",
   "metadata": {},
   "source": [
    "### Comments\n",
    "Comments start with a `#`, and Python will render the rest of the line as a comment. For example:\n",
    "```\n",
    "# This is a comment\n",
    "```"
   ]
  },
  {
   "cell_type": "markdown",
   "metadata": {
    "collapsed": true
   },
   "source": [
    "# 2. Python Basics\n",
    "## Tut 2a. Data Types"
   ]
  },
  {
   "cell_type": "markdown",
   "metadata": {},
   "source": [
    "### Basic Data Types and Their Operations\n",
    "+ Data Type      : `Integer`, `Float`, `String`, `Bool`\n",
    "+ Data Structure : `List`, `Dictionary`\n"
   ]
  },
  {
   "cell_type": "markdown",
   "metadata": {},
   "source": [
    "##### Integer"
   ]
  },
  {
   "cell_type": "code",
   "execution_count": null,
   "metadata": {
    "ExecuteTime": {
     "end_time": "2019-09-08T07:30:10.029726Z",
     "start_time": "2019-09-08T07:30:10.025433Z"
    }
   },
   "outputs": [],
   "source": [
    "a = 1 # define a integer\n",
    "b = 2 # another integer\n",
    "\n",
    "print(\"a =\", a, \", b =\", b)"
   ]
  },
  {
   "cell_type": "code",
   "execution_count": null,
   "metadata": {
    "ExecuteTime": {
     "end_time": "2019-09-08T07:30:10.038255Z",
     "start_time": "2019-09-08T07:30:10.031849Z"
    }
   },
   "outputs": [],
   "source": [
    "# addition of two integers\n"
   ]
  },
  {
   "cell_type": "code",
   "execution_count": null,
   "metadata": {
    "ExecuteTime": {
     "end_time": "2019-09-08T07:30:10.051537Z",
     "start_time": "2019-09-08T07:30:10.040366Z"
    }
   },
   "outputs": [],
   "source": [
    "# substraction of two integers\n"
   ]
  },
  {
   "cell_type": "code",
   "execution_count": null,
   "metadata": {
    "ExecuteTime": {
     "end_time": "2019-09-08T07:30:10.059962Z",
     "start_time": "2019-09-08T07:30:10.053667Z"
    }
   },
   "outputs": [],
   "source": [
    "# multiplication of two integers\n"
   ]
  },
  {
   "cell_type": "code",
   "execution_count": null,
   "metadata": {
    "ExecuteTime": {
     "end_time": "2019-09-08T07:30:10.072845Z",
     "start_time": "2019-09-08T07:30:10.061421Z"
    }
   },
   "outputs": [],
   "source": [
    "# division of two integers\n"
   ]
  },
  {
   "cell_type": "markdown",
   "metadata": {},
   "source": [
    "##### Float"
   ]
  },
  {
   "cell_type": "code",
   "execution_count": null,
   "metadata": {
    "ExecuteTime": {
     "end_time": "2019-09-08T07:30:10.080651Z",
     "start_time": "2019-09-08T07:30:10.074000Z"
    }
   },
   "outputs": [],
   "source": [
    "a = 1.0  # define a float (decimal)\n",
    "b = 2    # a integer\n",
    "\n",
    "print(\"a =\", a, \", b =\", b)"
   ]
  },
  {
   "cell_type": "code",
   "execution_count": null,
   "metadata": {
    "ExecuteTime": {
     "end_time": "2019-09-08T07:30:10.095766Z",
     "start_time": "2019-09-08T07:30:10.081802Z"
    }
   },
   "outputs": [],
   "source": [
    "# addition of two floats\n"
   ]
  },
  {
   "cell_type": "code",
   "execution_count": null,
   "metadata": {
    "ExecuteTime": {
     "end_time": "2019-09-08T07:30:10.103508Z",
     "start_time": "2019-09-08T07:30:10.097314Z"
    }
   },
   "outputs": [],
   "source": [
    "# substraction of two floats\n"
   ]
  },
  {
   "cell_type": "code",
   "execution_count": null,
   "metadata": {
    "ExecuteTime": {
     "end_time": "2019-09-08T07:30:10.116138Z",
     "start_time": "2019-09-08T07:30:10.105036Z"
    }
   },
   "outputs": [],
   "source": [
    "# multiplication of two floats\n"
   ]
  },
  {
   "cell_type": "code",
   "execution_count": null,
   "metadata": {
    "ExecuteTime": {
     "end_time": "2019-09-08T07:30:10.132710Z",
     "start_time": "2019-09-08T07:30:10.117237Z"
    }
   },
   "outputs": [],
   "source": [
    "# division of two integers\n"
   ]
  },
  {
   "cell_type": "markdown",
   "metadata": {},
   "source": [
    "##### String"
   ]
  },
  {
   "cell_type": "code",
   "execution_count": null,
   "metadata": {
    "ExecuteTime": {
     "end_time": "2019-09-08T07:30:10.139963Z",
     "start_time": "2019-09-08T07:30:10.133815Z"
    }
   },
   "outputs": [],
   "source": [
    "s = \"I love \"       # define a string\n",
    "something = 'XXX'   # another string\n",
    "\n",
    "print(s + something) # 'addition' of strings"
   ]
  },
  {
   "cell_type": "markdown",
   "metadata": {},
   "source": [
    "##### Bool\n",
    "`True` and `False`"
   ]
  },
  {
   "cell_type": "code",
   "execution_count": null,
   "metadata": {
    "ExecuteTime": {
     "end_time": "2019-09-08T07:30:10.148117Z",
     "start_time": "2019-09-08T07:30:10.141055Z"
    }
   },
   "outputs": [],
   "source": [
    "a = True  # define a bool\n",
    "b = False # another bool\n",
    "print(\"a =\", a, \", b =\", b)\n",
    "\n",
    "# Condition Statement\n",
    "\n",
    "\n"
   ]
  },
  {
   "cell_type": "code",
   "execution_count": null,
   "metadata": {
    "ExecuteTime": {
     "end_time": "2019-09-08T07:30:10.155504Z",
     "start_time": "2019-09-08T07:30:10.149219Z"
    }
   },
   "outputs": [],
   "source": [
    "# Let's do another example\n",
    "a = True  # define a bool\n",
    "b = False # another bool\n",
    "print(\"a =\", a, \", b =\", b)"
   ]
  },
  {
   "cell_type": "code",
   "execution_count": null,
   "metadata": {
    "ExecuteTime": {
     "end_time": "2019-09-08T07:30:10.167486Z",
     "start_time": "2019-09-08T07:30:10.156616Z"
    }
   },
   "outputs": [],
   "source": [
    "# logic operation\n",
    "# \"and\" operation of two bool variables\n"
   ]
  },
  {
   "cell_type": "code",
   "execution_count": null,
   "metadata": {
    "ExecuteTime": {
     "end_time": "2019-09-08T07:30:10.174702Z",
     "start_time": "2019-09-08T07:30:10.168581Z"
    }
   },
   "outputs": [],
   "source": [
    "# \"or\" operation of two bool variables\n"
   ]
  },
  {
   "cell_type": "code",
   "execution_count": null,
   "metadata": {
    "ExecuteTime": {
     "end_time": "2019-09-08T07:30:10.182620Z",
     "start_time": "2019-09-08T07:30:10.175791Z"
    }
   },
   "outputs": [],
   "source": [
    "# \"not\" operation of a bool variable\n"
   ]
  },
  {
   "cell_type": "markdown",
   "metadata": {},
   "source": [
    "## Tut 2b. Data Structures\n",
    "We will focus on two data structures today.\n",
    "+ *List* is a collection which is ordered and mutable. Allows duplicate members.\n",
    "+ *Dictionary* is a collection which is unordered, mutable and indexed. No duplicate members."
   ]
  },
  {
   "cell_type": "markdown",
   "metadata": {},
   "source": [
    "### List"
   ]
  },
  {
   "cell_type": "code",
   "execution_count": null,
   "metadata": {
    "ExecuteTime": {
     "end_time": "2019-09-08T07:30:10.195372Z",
     "start_time": "2019-09-08T07:30:10.183718Z"
    }
   },
   "outputs": [],
   "source": [
    "# Define a list\n",
    "\n"
   ]
  },
  {
   "cell_type": "markdown",
   "metadata": {},
   "source": [
    "##### Indexing of list\n",
    "* use a integer with a bracket `[]`\n",
    "* index starts from `0`"
   ]
  },
  {
   "cell_type": "code",
   "execution_count": null,
   "metadata": {
    "ExecuteTime": {
     "end_time": "2019-09-08T07:30:10.202794Z",
     "start_time": "2019-09-08T07:30:10.196469Z"
    }
   },
   "outputs": [],
   "source": [
    "# 1. Indexing of list\n",
    "\n",
    "l_string = ['Andrew', 'Jordan', 'Hinton', 'LeCun']  # a list of strings\n",
    "#               0         1         2        3      positive indexing\n",
    "#              -4        -3        -2       -1      negative indexing\n",
    "print(l_string)"
   ]
  },
  {
   "cell_type": "code",
   "execution_count": null,
   "metadata": {
    "ExecuteTime": {
     "end_time": "2019-09-08T07:30:10.215623Z",
     "start_time": "2019-09-08T07:30:10.203894Z"
    }
   },
   "outputs": [],
   "source": [
    "# 1. Indexing of list\n",
    "\n"
   ]
  },
  {
   "cell_type": "code",
   "execution_count": null,
   "metadata": {
    "ExecuteTime": {
     "end_time": "2019-09-08T07:30:10.223289Z",
     "start_time": "2019-09-08T07:30:10.216715Z"
    }
   },
   "outputs": [],
   "source": [
    "# 2. Change one of the elements\n",
    "\n"
   ]
  },
  {
   "cell_type": "code",
   "execution_count": null,
   "metadata": {
    "ExecuteTime": {
     "end_time": "2019-09-08T07:30:10.234999Z",
     "start_time": "2019-09-08T07:30:10.224388Z"
    }
   },
   "outputs": [],
   "source": [
    "# 3. String is a list of char (character)\n",
    "\n"
   ]
  },
  {
   "cell_type": "markdown",
   "metadata": {},
   "source": [
    "### Dictionary\n",
    "give each item a name ( indexing with a pre-defined 'name'， ***key*** )\n",
    "\n",
    "** { <span style=\"color:#FF8B33\">'key1'</span> : value1 , <span style=\"color:#FF8B33\">'key2'</span> : value2 , . . . , <span style=\"color:#FF8B33\">'keyN'</span> : valueN } **"
   ]
  },
  {
   "cell_type": "code",
   "execution_count": null,
   "metadata": {
    "ExecuteTime": {
     "end_time": "2019-09-08T07:30:10.241155Z",
     "start_time": "2019-09-08T07:30:10.236238Z"
    }
   },
   "outputs": [],
   "source": [
    "# 1. Define a dictionary\n",
    "# define with a curly brace{}\n",
    "\n",
    "d = {'int':1, 'float':1.0, 'bool':True, '1': 'Andrew', '2':'Hinton', '3':'LeCun'}\n",
    "print (\"< 1. Define a dictionary >\")\n",
    "print (\"dictionary d :\", d)"
   ]
  },
  {
   "cell_type": "code",
   "execution_count": null,
   "metadata": {
    "ExecuteTime": {
     "end_time": "2019-09-08T07:30:10.257939Z",
     "start_time": "2019-09-08T07:30:10.243472Z"
    }
   },
   "outputs": [],
   "source": [
    "# 2. Define an empty dictionary\n",
    "\n"
   ]
  },
  {
   "cell_type": "code",
   "execution_count": null,
   "metadata": {
    "ExecuteTime": {
     "end_time": "2019-09-08T07:30:10.265643Z",
     "start_time": "2019-09-08T07:30:10.259941Z"
    }
   },
   "outputs": [],
   "source": [
    "# Add items to the dictionary\n",
    "\n"
   ]
  },
  {
   "cell_type": "code",
   "execution_count": null,
   "metadata": {
    "ExecuteTime": {
     "end_time": "2019-09-08T07:30:10.273095Z",
     "start_time": "2019-09-08T07:30:10.266791Z"
    }
   },
   "outputs": [],
   "source": [
    "# 3. Indexing of dictionary\n",
    "# use a key with bracket []\n",
    "\n"
   ]
  },
  {
   "cell_type": "code",
   "execution_count": null,
   "metadata": {
    "ExecuteTime": {
     "end_time": "2019-09-08T07:30:10.280562Z",
     "start_time": "2019-09-08T07:30:10.274209Z"
    }
   },
   "outputs": [],
   "source": [
    "# 4. Replace value of an item\n",
    "\n"
   ]
  },
  {
   "cell_type": "markdown",
   "metadata": {},
   "source": [
    "### List v.s. Dictionary\n",
    "<ul>\n",
    "    <li> Indexing in Dictionary is faster than List </li>\n",
    "    <li> Dictionary costs much more mermory than List </li>\n",
    "</ul>"
   ]
  },
  {
   "cell_type": "markdown",
   "metadata": {},
   "source": [
    "## Tut 2b. Flow Control"
   ]
  },
  {
   "cell_type": "markdown",
   "metadata": {},
   "source": [
    "### If Statement\n",
    "Run code based conditions\n",
    "<img src=\"res/if.png\">"
   ]
  },
  {
   "cell_type": "markdown",
   "metadata": {},
   "source": [
    "##### A Simple Example"
   ]
  },
  {
   "cell_type": "code",
   "execution_count": null,
   "metadata": {
    "ExecuteTime": {
     "end_time": "2019-09-08T07:30:10.287499Z",
     "start_time": "2019-09-08T07:30:10.281650Z"
    }
   },
   "outputs": [],
   "source": [
    "condition = True  # define a bool variable called \"condition\"\n",
    "\n",
    "if condition:\n",
    "    print (\"The condition is True\")\n",
    "else:\n",
    "    print (\"The condition is False\")"
   ]
  },
  {
   "cell_type": "code",
   "execution_count": null,
   "metadata": {
    "ExecuteTime": {
     "end_time": "2019-09-08T07:30:10.294990Z",
     "start_time": "2019-09-08T07:30:10.288574Z"
    }
   },
   "outputs": [],
   "source": [
    "# Another example\n",
    "\n"
   ]
  },
  {
   "cell_type": "markdown",
   "metadata": {},
   "source": [
    "##### Using Condition Statement"
   ]
  },
  {
   "cell_type": "code",
   "execution_count": null,
   "metadata": {
    "ExecuteTime": {
     "end_time": "2019-09-08T07:30:10.302367Z",
     "start_time": "2019-09-08T07:30:10.296110Z"
    }
   },
   "outputs": [],
   "source": [
    "# define a float variable recording a student's height\n",
    "# if the student is higher than 160.0cm, he will be given an apple\n",
    "# if the student is lower than 160.0cm,  he will be given a banana\n",
    "\n",
    "height = 170.0  # the height of the student\n",
    "\n"
   ]
  },
  {
   "cell_type": "markdown",
   "metadata": {},
   "source": [
    "##### if, elif, else\n",
    "\n",
    " <ul>\n",
    "    <li> `if, else` is just binary-branch flow control statement. </li>\n",
    "    <li> For multi-branch flow control, we can use `if, elif, else`. </li>\n",
    "</ul>\n",
    "\n",
    "\n",
    "More complicated case:\n",
    "<img src=\"res/gpa.png\">"
   ]
  },
  {
   "cell_type": "code",
   "execution_count": null,
   "metadata": {
    "ExecuteTime": {
     "end_time": "2019-09-08T07:30:10.312533Z",
     "start_time": "2019-09-08T07:30:10.303509Z"
    }
   },
   "outputs": [],
   "source": [
    "# decide the grade of a student based on the score provided\n",
    "\n",
    "score = 75 # score of a student\n",
    "\n"
   ]
  },
  {
   "cell_type": "markdown",
   "metadata": {},
   "source": [
    "## Tut 2c. Loops"
   ]
  },
  {
   "cell_type": "markdown",
   "metadata": {},
   "source": [
    "### For Loop\n",
    "Repeat codes many times, with a variable changing as the way we define\n",
    "<img src=\"res/for.png\">"
   ]
  },
  {
   "cell_type": "markdown",
   "metadata": {},
   "source": [
    "##### A simple example"
   ]
  },
  {
   "cell_type": "code",
   "execution_count": null,
   "metadata": {
    "ExecuteTime": {
     "end_time": "2019-09-08T07:30:10.319902Z",
     "start_time": "2019-09-08T07:30:10.313539Z"
    }
   },
   "outputs": [],
   "source": [
    "# print the iter_variable repeatedly with the value of iter_variable changed from 0 to 3\n",
    "\n",
    "# 1. A simple example\n",
    "\n",
    "print (\"< 1. A simple example >\")\n",
    "for iter_variable in [0, 1, 2, 3]:\n",
    "    print (iter_variable)"
   ]
  },
  {
   "cell_type": "code",
   "execution_count": null,
   "metadata": {
    "ExecuteTime": {
     "end_time": "2019-09-08T07:30:10.327447Z",
     "start_time": "2019-09-08T07:30:10.320869Z"
    }
   },
   "outputs": [],
   "source": [
    "# 2. A more convenient way\n",
    "\n"
   ]
  },
  {
   "cell_type": "code",
   "execution_count": null,
   "metadata": {
    "ExecuteTime": {
     "end_time": "2019-09-08T07:30:10.335430Z",
     "start_time": "2019-09-08T07:30:10.328419Z"
    }
   },
   "outputs": [],
   "source": [
    "# 3. A flexible way\n",
    "\n"
   ]
  },
  {
   "cell_type": "markdown",
   "metadata": {},
   "source": [
    "##### Repeat an operation"
   ]
  },
  {
   "cell_type": "code",
   "execution_count": null,
   "metadata": {
    "ExecuteTime": {
     "end_time": "2019-09-08T07:30:10.342859Z",
     "start_time": "2019-09-08T07:30:10.336390Z"
    }
   },
   "outputs": [],
   "source": [
    "# sum up the numbers from 1 to 10\n",
    "\n",
    "# 1. The most naive way\n",
    "\n",
    "print(\"< 1. The most naive way >\")\n",
    "sum_10 = 1 + 2 + 3 + 4 + 5 + 6 + 7 + 8 + 9 + 10\n",
    "print(\"sum from 1 to 10 :\", sum_10)"
   ]
  },
  {
   "cell_type": "code",
   "execution_count": null,
   "metadata": {
    "ExecuteTime": {
     "end_time": "2019-09-08T07:30:10.350246Z",
     "start_time": "2019-09-08T07:30:10.343814Z"
    }
   },
   "outputs": [],
   "source": [
    "# 2. The right way to do\n",
    "\n"
   ]
  },
  {
   "cell_type": "code",
   "execution_count": null,
   "metadata": {
    "ExecuteTime": {
     "end_time": "2019-09-08T07:30:10.357987Z",
     "start_time": "2019-09-08T07:30:10.351297Z"
    }
   },
   "outputs": [],
   "source": [
    "# 3. More numbers involved\n",
    "\n"
   ]
  },
  {
   "cell_type": "markdown",
   "metadata": {},
   "source": [
    "### While Loop\n",
    "Repeat codes until condition is not satisfied\n",
    "<img src=\"res/while.png\">"
   ]
  },
  {
   "cell_type": "markdown",
   "metadata": {},
   "source": [
    "##### A simple example"
   ]
  },
  {
   "cell_type": "code",
   "execution_count": null,
   "metadata": {
    "ExecuteTime": {
     "end_time": "2019-09-08T07:30:10.365899Z",
     "start_time": "2019-09-08T07:30:10.358955Z"
    }
   },
   "outputs": [],
   "source": [
    "# sum up the numbers from 1 to 100\n",
    "\n",
    "counter = 1\n",
    "sum_100 = 0\n",
    "\n",
    "while counter <= 100:\n",
    "    sum_100 = sum_100 + counter\n",
    "    counter = counter + 1\n",
    "    \n",
    "print(\"sum from 1 to 100 :\", sum_100)\n",
    "\n",
    "    \n",
    "    \n",
    "# illustration code\n",
    "# counter = 1\n",
    "# sum_9   = 0\n",
    "# print \"counter\", \" sum_9\", '\\n'\n",
    "# while counter <= 9:\n",
    "#     sum_9 = sum_9 + counter\n",
    "#     print counter, \"         \", sum_9\n",
    "#     counter = counter + 1"
   ]
  },
  {
   "cell_type": "markdown",
   "metadata": {},
   "source": [
    "## Tut 2d. Function\n",
    "\n",
    "### Definition of Function\n",
    "Enclosing codes so that it can be called repeatedly and flexibly\n",
    "<img src=\"res/function.png\">"
   ]
  },
  {
   "cell_type": "code",
   "execution_count": null,
   "metadata": {
    "ExecuteTime": {
     "end_time": "2019-09-08T07:30:10.381027Z",
     "start_time": "2019-09-08T07:30:10.366884Z"
    }
   },
   "outputs": [],
   "source": [
    "# 1. A simple example\n",
    "\n",
    "# define a function sum up numbers from 1 to n (n is the input parameter)\n"
   ]
  },
  {
   "cell_type": "code",
   "execution_count": null,
   "metadata": {
    "ExecuteTime": {
     "end_time": "2019-09-08T07:30:10.401425Z",
     "start_time": "2019-09-08T07:30:10.389708Z"
    }
   },
   "outputs": [],
   "source": [
    "# 2. Multiple iuputs\n",
    "\n",
    "# define a function sum up two input variables \"a\" and \"b\"\n"
   ]
  },
  {
   "cell_type": "code",
   "execution_count": null,
   "metadata": {
    "ExecuteTime": {
     "end_time": "2019-09-08T07:30:10.408630Z",
     "start_time": "2019-09-08T07:30:10.402410Z"
    }
   },
   "outputs": [],
   "source": [
    "# 3. Multiple outputs\n",
    "\n",
    "# define a function sum up and multiple up numbers from 1 to n (n is the input parameter)\n",
    "\n"
   ]
  },
  {
   "cell_type": "markdown",
   "metadata": {},
   "source": [
    "### Built-in functions in Python"
   ]
  },
  {
   "cell_type": "markdown",
   "metadata": {},
   "source": [
    "##### for List and Dictionary"
   ]
  },
  {
   "cell_type": "code",
   "execution_count": null,
   "metadata": {
    "ExecuteTime": {
     "end_time": "2019-09-08T07:30:10.416439Z",
     "start_time": "2019-09-08T07:30:10.409618Z"
    },
    "scrolled": true
   },
   "outputs": [],
   "source": [
    "# ============== List ==================== \n",
    "\n",
    "# 1. Generate a list with numbers from 0 to 9 with random order\n",
    "\n"
   ]
  },
  {
   "cell_type": "code",
   "execution_count": null,
   "metadata": {
    "ExecuteTime": {
     "end_time": "2019-09-08T07:30:10.426753Z",
     "start_time": "2019-09-08T07:30:10.417393Z"
    }
   },
   "outputs": [],
   "source": [
    "# 2. Check the length of the generated list\n",
    "\n"
   ]
  },
  {
   "cell_type": "code",
   "execution_count": null,
   "metadata": {
    "ExecuteTime": {
     "end_time": "2019-09-08T07:30:10.434667Z",
     "start_time": "2019-09-08T07:30:10.427695Z"
    }
   },
   "outputs": [],
   "source": [
    "# 3. Find the maximum and minimum number of the generated list\n",
    "\n"
   ]
  },
  {
   "cell_type": "code",
   "execution_count": null,
   "metadata": {
    "ExecuteTime": {
     "end_time": "2019-09-08T07:32:20.893290Z",
     "start_time": "2019-09-08T07:32:20.888139Z"
    }
   },
   "outputs": [],
   "source": [
    "# 4. Sort the generated list in accending order\n",
    "\n"
   ]
  },
  {
   "cell_type": "code",
   "execution_count": null,
   "metadata": {
    "ExecuteTime": {
     "end_time": "2019-09-08T07:30:10.454246Z",
     "start_time": "2019-09-08T07:30:10.442968Z"
    }
   },
   "outputs": [],
   "source": [
    "# 5. Reverse the generated list\n",
    "\n"
   ]
  },
  {
   "cell_type": "code",
   "execution_count": null,
   "metadata": {
    "ExecuteTime": {
     "end_time": "2019-09-08T07:30:10.464726Z",
     "start_time": "2019-09-08T07:30:10.455169Z"
    }
   },
   "outputs": [],
   "source": [
    "# 6. Add a new item at the end of the list\n",
    "\n"
   ]
  },
  {
   "cell_type": "code",
   "execution_count": null,
   "metadata": {
    "ExecuteTime": {
     "end_time": "2019-09-08T07:30:10.473333Z",
     "start_time": "2019-09-08T07:30:10.465649Z"
    }
   },
   "outputs": [],
   "source": [
    "# 7. Get index of a certain item in list\n",
    "\n"
   ]
  },
  {
   "cell_type": "code",
   "execution_count": null,
   "metadata": {
    "ExecuteTime": {
     "end_time": "2019-09-08T07:30:10.482616Z",
     "start_time": "2019-09-08T07:30:10.474307Z"
    }
   },
   "outputs": [],
   "source": [
    "# 8. Delete a item in list\n",
    "\n"
   ]
  },
  {
   "cell_type": "code",
   "execution_count": null,
   "metadata": {
    "ExecuteTime": {
     "end_time": "2019-09-08T07:30:10.489806Z",
     "start_time": "2019-09-08T07:30:10.483544Z"
    }
   },
   "outputs": [],
   "source": [
    "# ============== Dictionary ==================== \n",
    "\n",
    "# 1. Define a dictionary\n"
   ]
  },
  {
   "cell_type": "code",
   "execution_count": null,
   "metadata": {
    "ExecuteTime": {
     "end_time": "2019-09-08T07:30:10.500223Z",
     "start_time": "2019-09-08T07:30:10.490871Z"
    }
   },
   "outputs": [],
   "source": [
    "# 2. Check the length of the generated dictionary\n",
    "\n"
   ]
  },
  {
   "cell_type": "code",
   "execution_count": null,
   "metadata": {
    "ExecuteTime": {
     "end_time": "2019-09-08T07:30:10.512454Z",
     "start_time": "2019-09-08T07:30:10.501147Z"
    }
   },
   "outputs": [],
   "source": [
    "# 3. Check the key of all items in a dictionary\n",
    "\n"
   ]
  },
  {
   "cell_type": "code",
   "execution_count": null,
   "metadata": {
    "ExecuteTime": {
     "end_time": "2019-09-08T07:30:10.520529Z",
     "start_time": "2019-09-08T07:30:10.513402Z"
    }
   },
   "outputs": [],
   "source": [
    "# 4. Check the value of all items in a dictionary\n",
    "\n"
   ]
  },
  {
   "cell_type": "code",
   "execution_count": null,
   "metadata": {
    "ExecuteTime": {
     "end_time": "2019-09-08T07:30:10.528309Z",
     "start_time": "2019-09-08T07:30:10.521463Z"
    }
   },
   "outputs": [],
   "source": [
    "# 5. Delete one item in a dictionary\n",
    "\n"
   ]
  },
  {
   "cell_type": "code",
   "execution_count": null,
   "metadata": {
    "ExecuteTime": {
     "end_time": "2019-09-08T07:30:10.536203Z",
     "start_time": "2019-09-08T07:30:10.529227Z"
    }
   },
   "outputs": [],
   "source": [
    "# 6. Clear all items in a dictionary\n",
    "\n"
   ]
  },
  {
   "cell_type": "markdown",
   "metadata": {},
   "source": [
    "## Exercises"
   ]
  },
  {
   "cell_type": "markdown",
   "metadata": {},
   "source": [
    "**Ex.1** Generate a list of dictionaries based on the following provided table\n",
    "\n",
    "| Country |  Population  |    Area   | GDPpCapita | Currency |\n",
    "|---------|:------------:|:---------:|:----------:|:--------:|\n",
    "|Singapore|  5,607,300   |   739.1   |    90.724  |   SGD    |\n",
    "|  U.S.A  |  325,365,189 | 9,833,520 |    57.220  |   USD    |\n",
    "|  China  |1,403,500,365 | 9,596,961 |    16.676  |   CNY    |"
   ]
  },
  {
   "cell_type": "code",
   "execution_count": null,
   "metadata": {
    "ExecuteTime": {
     "end_time": "2019-09-08T07:30:10.546162Z",
     "start_time": "2019-09-08T07:30:10.537129Z"
    }
   },
   "outputs": [],
   "source": [
    "# code for Ex.1\n",
    "\n"
   ]
  },
  {
   "cell_type": "markdown",
   "metadata": {},
   "source": [
    "**Ex.2** Print out the name and population of each country in the list of dictionaries created in Ex.2.1 by using *** `for loop` ***"
   ]
  },
  {
   "cell_type": "code",
   "execution_count": null,
   "metadata": {
    "ExecuteTime": {
     "end_time": "2019-09-08T07:30:10.553552Z",
     "start_time": "2019-09-08T07:30:10.547166Z"
    }
   },
   "outputs": [],
   "source": [
    "# code for Ex.2\n",
    "\n"
   ]
  },
  {
   "cell_type": "markdown",
   "metadata": {},
   "source": [
    "**Ex.3** Check out whether the area of China is greater than 10 million by using *** `if statement` ***, if the condition is satisfied print out 'YES', if not print out 'NO'"
   ]
  },
  {
   "cell_type": "code",
   "execution_count": null,
   "metadata": {
    "ExecuteTime": {
     "end_time": "2019-09-08T07:30:10.562834Z",
     "start_time": "2019-09-08T07:30:10.554539Z"
    }
   },
   "outputs": [],
   "source": [
    "# code for Ex.3\n",
    "\n"
   ]
  },
  {
   "cell_type": "markdown",
   "metadata": {},
   "source": [
    "**Ex.4** Implement a function to pick out the countries that have the GDP per Capita greater than 50\n",
    "* Input  : the list of dictionaries created in Ex.1\n",
    "* Output : index of the country in the list (also print out the name of the country)\n",
    "* Function Name : pickOut\n",
    "\n",
    "\n",
    "* tips: by using **`for loop`** and **`if statement`**"
   ]
  },
  {
   "cell_type": "code",
   "execution_count": null,
   "metadata": {
    "ExecuteTime": {
     "end_time": "2019-09-08T07:30:10.574467Z",
     "start_time": "2019-09-08T07:30:10.563816Z"
    }
   },
   "outputs": [],
   "source": [
    "# code for Ex.4\n",
    "\n"
   ]
  }
 ],
 "metadata": {
  "kernelspec": {
   "display_name": "Python 3",
   "language": "python",
   "name": "python3"
  },
  "language_info": {
   "codemirror_mode": {
    "name": "ipython",
    "version": 3
   },
   "file_extension": ".py",
   "mimetype": "text/x-python",
   "name": "python",
   "nbconvert_exporter": "python",
   "pygments_lexer": "ipython3",
   "version": "3.6.8"
  },
  "toc": {
   "base_numbering": 1,
   "nav_menu": {},
   "number_sections": true,
   "sideBar": true,
   "skip_h1_title": false,
   "title_cell": "Table of Contents",
   "title_sidebar": "Contents",
   "toc_cell": false,
   "toc_position": {
    "height": "calc(100% - 180px)",
    "left": "10px",
    "top": "150px",
    "width": "384px"
   },
   "toc_section_display": true,
   "toc_window_display": false
  }
 },
 "nbformat": 4,
 "nbformat_minor": 2
}
