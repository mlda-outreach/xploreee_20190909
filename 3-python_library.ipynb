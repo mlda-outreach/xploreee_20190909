{
 "cells": [
  {
   "cell_type": "markdown",
   "metadata": {
    "slideshow": {
     "slide_type": "slide"
    }
   },
   "source": [
    "# Part 1: Introduction to Python Libraries"
   ]
  },
  {
   "cell_type": "markdown",
   "metadata": {
    "colab_type": "text",
    "id": "jpqw5i52--Va",
    "slideshow": {
     "slide_type": "slide"
    }
   },
   "source": [
    "# 1. Libraries\n",
    "\n",
    "A standard distribution of Python comes with a [Standard Library](https://docs.python.org/2.7/library/) that provides the basic system functionalities such as file I/O. This is further enhanced by other Python packages developed by the community, which can be found on [Python Package Index (PyPI)](https://pypi.org/) repository. In data science, the 3 most fundamental software packages are:\n",
    "+ Numpy: Efficient manipulation of N-dimensional matrices with linear algebra functions\n",
    "+ Pandas: Provides a slew of data structures and data analysis tools (Excel alternative)\n",
    "+ Matplotlib: 2D plotting library for images, histograms, barcharts"
   ]
  },
  {
   "cell_type": "markdown",
   "metadata": {
    "slideshow": {
     "slide_type": "subslide"
    }
   },
   "source": [
    "## 1.1 Import Libraries"
   ]
  },
  {
   "cell_type": "code",
   "execution_count": null,
   "metadata": {
    "ExecuteTime": {
     "end_time": "2019-06-06T04:27:19.752279Z",
     "start_time": "2019-06-06T04:27:19.708305Z"
    },
    "colab": {},
    "colab_type": "code",
    "id": "7WzFd1j879TS",
    "slideshow": {
     "slide_type": "fragment"
    }
   },
   "outputs": [],
   "source": []
  },
  {
   "cell_type": "markdown",
   "metadata": {},
   "source": [
    "As a result of doing this, important functions and objects from these libraries will be imported into our workspace and we can call functions with prepended package names like `np.array()`, `pd.DataFrame()`"
   ]
  },
  {
   "cell_type": "markdown",
   "metadata": {
    "slideshow": {
     "slide_type": "slide"
    }
   },
   "source": [
    "# 2. Numpy"
   ]
  },
  {
   "cell_type": "markdown",
   "metadata": {
    "slideshow": {
     "slide_type": "subslide"
    }
   },
   "source": [
    "## 2.1 Matrices and Vectors with Numpy"
   ]
  },
  {
   "cell_type": "markdown",
   "metadata": {},
   "source": [
    "### Vector\n",
    "$$\n",
    "\\vec{x} = \\begin{bmatrix}1& 2& 3 \\end{bmatrix}, \\ \\ \\ \\ \\ \n",
    "\\vec{x} = \\begin{bmatrix}1 \\\\2 \\\\ 3 \\end{bmatrix}\n",
    "$$"
   ]
  },
  {
   "cell_type": "code",
   "execution_count": null,
   "metadata": {
    "ExecuteTime": {
     "end_time": "2019-06-06T04:27:19.777268Z",
     "start_time": "2019-06-06T04:27:19.757276Z"
    },
    "slideshow": {
     "slide_type": "fragment"
    }
   },
   "outputs": [],
   "source": []
  },
  {
   "cell_type": "code",
   "execution_count": null,
   "metadata": {},
   "outputs": [],
   "source": []
  },
  {
   "cell_type": "code",
   "execution_count": null,
   "metadata": {},
   "outputs": [],
   "source": []
  },
  {
   "cell_type": "code",
   "execution_count": null,
   "metadata": {},
   "outputs": [],
   "source": []
  },
  {
   "cell_type": "code",
   "execution_count": null,
   "metadata": {
    "ExecuteTime": {
     "end_time": "2019-06-06T04:27:19.818244Z",
     "start_time": "2019-06-06T04:27:19.781264Z"
    }
   },
   "outputs": [],
   "source": []
  },
  {
   "cell_type": "code",
   "execution_count": null,
   "metadata": {
    "ExecuteTime": {
     "end_time": "2019-06-06T04:27:19.848224Z",
     "start_time": "2019-06-06T04:27:19.822240Z"
    },
    "slideshow": {
     "slide_type": "fragment"
    }
   },
   "outputs": [],
   "source": []
  },
  {
   "cell_type": "markdown",
   "metadata": {
    "slideshow": {
     "slide_type": "subslide"
    }
   },
   "source": [
    "### Matrix\n",
    "$$\n",
    "\\vec{Y} = \\begin{bmatrix}1 & 2 & 3 \\\\4 & 5 & 6 \\\\ 7 & 8 & 9 \\end{bmatrix}\n",
    "$$"
   ]
  },
  {
   "cell_type": "code",
   "execution_count": null,
   "metadata": {
    "ExecuteTime": {
     "end_time": "2019-06-06T04:27:19.879207Z",
     "start_time": "2019-06-06T04:27:19.853221Z"
    },
    "slideshow": {
     "slide_type": "fragment"
    }
   },
   "outputs": [],
   "source": []
  },
  {
   "cell_type": "code",
   "execution_count": null,
   "metadata": {
    "ExecuteTime": {
     "end_time": "2019-06-06T04:27:19.908190Z",
     "start_time": "2019-06-06T04:27:19.883205Z"
    }
   },
   "outputs": [],
   "source": []
  },
  {
   "cell_type": "code",
   "execution_count": null,
   "metadata": {
    "ExecuteTime": {
     "end_time": "2019-06-06T04:27:19.936175Z",
     "start_time": "2019-06-06T04:27:19.912189Z"
    }
   },
   "outputs": [],
   "source": []
  },
  {
   "cell_type": "markdown",
   "metadata": {},
   "source": [
    "### exercise\n",
    "1. 3x4 matrix\n",
    "\n",
    "2. 4x3 matrix"
   ]
  },
  {
   "cell_type": "code",
   "execution_count": null,
   "metadata": {},
   "outputs": [],
   "source": []
  },
  {
   "cell_type": "code",
   "execution_count": null,
   "metadata": {},
   "outputs": [],
   "source": []
  },
  {
   "cell_type": "code",
   "execution_count": null,
   "metadata": {},
   "outputs": [],
   "source": []
  },
  {
   "cell_type": "code",
   "execution_count": null,
   "metadata": {},
   "outputs": [],
   "source": []
  },
  {
   "cell_type": "markdown",
   "metadata": {
    "slideshow": {
     "slide_type": "fragment"
    }
   },
   "source": [
    "## 2.2 Operations with Numpy objects"
   ]
  },
  {
   "cell_type": "markdown",
   "metadata": {
    "ExecuteTime": {
     "end_time": "2019-06-06T01:17:52.272589Z",
     "start_time": "2019-06-06T01:17:52.265610Z"
    }
   },
   "source": [
    "**Matrix Multiplication**\n",
    "$\\vec{Y}$: 3x3,\n",
    "$\\vec{x}$: 3x1\n",
    "$$\n",
    "\\vec{Y}*\\vec{x} = \\begin{bmatrix}1 & 2 & 3 \\\\4 & 5 & 6 \\\\ 7 & 8 & 9 \\end{bmatrix} * \\begin{bmatrix}1 \\\\2 \\\\ 3 \\end{bmatrix} =  \\begin{bmatrix}14 \\\\32 \\\\ 50 \\end{bmatrix}\n",
    "$$\n",
    "\n",
    "output： row of $\\vec{Y}$ and column of $\\vec{x}$"
   ]
  },
  {
   "cell_type": "code",
   "execution_count": null,
   "metadata": {
    "ExecuteTime": {
     "end_time": "2019-06-06T04:27:19.956162Z",
     "start_time": "2019-06-06T04:27:19.939174Z"
    }
   },
   "outputs": [],
   "source": [
    " # np.dot()"
   ]
  },
  {
   "cell_type": "code",
   "execution_count": null,
   "metadata": {
    "ExecuteTime": {
     "end_time": "2019-06-06T04:27:19.974153Z",
     "start_time": "2019-06-06T04:27:19.960161Z"
    }
   },
   "outputs": [],
   "source": []
  },
  {
   "cell_type": "markdown",
   "metadata": {
    "ExecuteTime": {
     "end_time": "2019-06-06T01:20:22.971568Z",
     "start_time": "2019-06-06T01:20:22.963594Z"
    }
   },
   "source": [
    "$$\n",
    "\\vec{x}*\\vec{x}.T = \\begin{bmatrix}1 \\\\2 \\\\ 3 \\end{bmatrix} * \\begin{bmatrix}1 & 2 & 3 \\end{bmatrix} = \\begin{bmatrix}1 & 2 & 3 \\\\2 & 4 & 6 \\\\ 3 & 6 & 9 \\end{bmatrix}\n",
    "$$"
   ]
  },
  {
   "cell_type": "code",
   "execution_count": null,
   "metadata": {
    "ExecuteTime": {
     "end_time": "2019-06-06T04:27:20.004135Z",
     "start_time": "2019-06-06T04:27:19.978150Z"
    }
   },
   "outputs": [],
   "source": []
  },
  {
   "cell_type": "code",
   "execution_count": null,
   "metadata": {
    "ExecuteTime": {
     "end_time": "2019-06-06T04:27:20.034117Z",
     "start_time": "2019-06-06T04:27:20.008133Z"
    }
   },
   "outputs": [],
   "source": []
  },
  {
   "cell_type": "markdown",
   "metadata": {
    "ExecuteTime": {
     "end_time": "2019-06-06T01:24:41.071993Z",
     "start_time": "2019-06-06T01:24:41.062995Z"
    }
   },
   "source": [
    "**Element-wise number operators**\n",
    "$$\n",
    "\\vec{x} + 10 = \\begin{bmatrix}1 \\\\2 \\\\ 3 \\end{bmatrix} + 10 = \\begin{bmatrix}11 \\\\12 \\\\ 13 \\end{bmatrix}\n",
    "$$"
   ]
  },
  {
   "cell_type": "code",
   "execution_count": null,
   "metadata": {
    "ExecuteTime": {
     "end_time": "2019-06-06T04:27:20.065100Z",
     "start_time": "2019-06-06T04:27:20.037115Z"
    },
    "slideshow": {
     "slide_type": "subslide"
    }
   },
   "outputs": [],
   "source": [
    "  # element-wise number operations"
   ]
  },
  {
   "cell_type": "markdown",
   "metadata": {
    "ExecuteTime": {
     "end_time": "2019-06-06T01:24:41.071993Z",
     "start_time": "2019-06-06T01:24:41.062995Z"
    }
   },
   "source": [
    "$$\n",
    "(\\vec{Y}) ^ 2 = \\begin{bmatrix}1 & 2 & 3 \\\\4 & 5 & 6 \\\\ 7 & 8 & 9 \\end{bmatrix}^2 = \\begin{bmatrix}1 & 2 & 3 \\\\4 & 5 & 6 \\\\ 7 & 8 & 9 \\end{bmatrix} * \\begin{bmatrix}1 & 2 & 3 \\\\4 & 5 & 6 \\\\ 7 & 8 & 9 \\end{bmatrix} = \\begin{bmatrix}1 & 4 & 9 \\\\16 & 25 & 36 \\\\ 48 & 64 & 81 \\end{bmatrix}\n",
    "$$"
   ]
  },
  {
   "cell_type": "code",
   "execution_count": null,
   "metadata": {
    "ExecuteTime": {
     "end_time": "2019-06-06T04:27:20.087087Z",
     "start_time": "2019-06-06T04:27:20.071100Z"
    }
   },
   "outputs": [],
   "source": [
    " # **"
   ]
  },
  {
   "cell_type": "markdown",
   "metadata": {
    "ExecuteTime": {
     "end_time": "2019-06-06T01:30:37.612504Z",
     "start_time": "2019-06-06T01:30:37.604513Z"
    }
   },
   "source": [
    "**Broadcasting**\n",
    "$$\n",
    "\\vec{Y}+\\vec{x} = \\begin{bmatrix}1 & 2 & 3 \\\\4 & 5 & 6 \\\\ 7 & 8 & 9 \\end{bmatrix} + \\begin{bmatrix}1 \\\\2 \\\\ 3 \\end{bmatrix} =   \\begin{bmatrix}2 & 3 & 4 \\\\6 & 7 & 8 \\\\ 10 & 11 & 12 \\end{bmatrix}\n",
    "$$"
   ]
  },
  {
   "cell_type": "code",
   "execution_count": null,
   "metadata": {
    "ExecuteTime": {
     "end_time": "2019-06-06T04:27:20.111074Z",
     "start_time": "2019-06-06T04:27:20.091086Z"
    },
    "slideshow": {
     "slide_type": "subslide"
    }
   },
   "outputs": [],
   "source": [
    " # broadcasting. What happened here?"
   ]
  },
  {
   "cell_type": "code",
   "execution_count": null,
   "metadata": {
    "ExecuteTime": {
     "end_time": "2019-06-06T04:27:20.131062Z",
     "start_time": "2019-06-06T04:27:20.115071Z"
    }
   },
   "outputs": [],
   "source": []
  },
  {
   "cell_type": "markdown",
   "metadata": {
    "slideshow": {
     "slide_type": "slide"
    }
   },
   "source": [
    "# 3. Pandas"
   ]
  },
  {
   "cell_type": "code",
   "execution_count": null,
   "metadata": {},
   "outputs": [],
   "source": []
  },
  {
   "cell_type": "markdown",
   "metadata": {
    "slideshow": {
     "slide_type": "subslide"
    }
   },
   "source": [
    "## 3.1 Import dataset into Pandas DataFrame object"
   ]
  },
  {
   "cell_type": "markdown",
   "metadata": {},
   "source": [
    "**Import Dataset**\n",
    "\n",
    "We are using a subset of passenger data on the tragic ship, Titanic [(link)](https://www.kaggle.com/c/titanic/data) "
   ]
  },
  {
   "cell_type": "code",
   "execution_count": null,
   "metadata": {
    "ExecuteTime": {
     "end_time": "2019-06-06T04:27:20.863645Z",
     "start_time": "2019-06-06T04:27:20.135060Z"
    },
    "colab": {
     "base_uri": "https://localhost:8080/",
     "height": 34
    },
    "colab_type": "code",
    "id": "O2WDVn_9_aEd",
    "outputId": "8dc2786a-5437-4baf-a036-9c45f1dd4dd9",
    "slideshow": {
     "slide_type": "fragment"
    }
   },
   "outputs": [],
   "source": [
    "# Read Data from csv file named 'Titanic.csv'\n",
    "# create a Pandas.Dataframe\n",
    "\n",
    "#data = pd.read_csv('data/Titanic.csv')\n",
    "url = 'https://raw.githubusercontent.com/prasanth-ntu/MLDA-Enthuse-V2/master/Part%201%20-%20Intro%20to%20Python%20and%20Python%20Libraries/data/Titanic.csv'\n",
    "data = pd.read_csv(url)    \n",
    "\n",
    "# Inspect the data type\n",
    "type(data)"
   ]
  },
  {
   "cell_type": "markdown",
   "metadata": {
    "slideshow": {
     "slide_type": "subslide"
    }
   },
   "source": [
    "**Preliminary view of data**\n",
    "\n",
    "As a rule of thumb, *columns* store variables whereas *rows* store entries of data"
   ]
  },
  {
   "cell_type": "code",
   "execution_count": null,
   "metadata": {
    "ExecuteTime": {
     "end_time": "2019-06-06T04:27:20.893625Z",
     "start_time": "2019-06-06T04:27:20.866640Z"
    },
    "colab": {
     "base_uri": "https://localhost:8080/",
     "height": 34
    },
    "colab_type": "code",
    "id": "D-2WPPtBFhl2",
    "outputId": "0f28eb88-920e-4bcd-9281-1c603a022dea"
   },
   "outputs": [],
   "source": [
    " # head and tail"
   ]
  },
  {
   "cell_type": "markdown",
   "metadata": {
    "slideshow": {
     "slide_type": "subslide"
    }
   },
   "source": [
    "## 3.2. Attributes of DataFrames\n",
    "Pandas DataFrames are composed of Index, columns and underlying numpy data\n",
    "<ul>\n",
    "    <li>`index`   : the name of each row</li>\n",
    "    <li>`columns` : the name of each column</li>\n",
    "    <li>`value`   : all the content except index and columns in the DataFrame</li>\n",
    "    <li>`sorting()`: sort data with certain conditions </li>\n",
    "</ul>"
   ]
  },
  {
   "cell_type": "code",
   "execution_count": null,
   "metadata": {
    "ExecuteTime": {
     "end_time": "2019-06-06T04:27:20.921611Z",
     "start_time": "2019-06-06T04:27:20.897622Z"
    }
   },
   "outputs": [],
   "source": [
    "# get column attribute  .columns"
   ]
  },
  {
   "cell_type": "markdown",
   "metadata": {
    "slideshow": {
     "slide_type": "subslide"
    }
   },
   "source": [
    "**Sorting**"
   ]
  },
  {
   "cell_type": "code",
   "execution_count": null,
   "metadata": {
    "ExecuteTime": {
     "end_time": "2019-06-06T04:27:20.991573Z",
     "start_time": "2019-06-06T04:27:20.927606Z"
    },
    "scrolled": true
   },
   "outputs": [],
   "source": [
    "# Simple Sorting of data according to a column name, say 'Age', in ascending order .sort_values(by=, ascending=True)"
   ]
  },
  {
   "cell_type": "markdown",
   "metadata": {
    "slideshow": {
     "slide_type": "subslide"
    }
   },
   "source": [
    "**Missing values**\n",
    "\n",
    "Missing values affect our analysis on the data. For convenience, we drop all rows with any form of missing data. In the real world, there are techniques to deal with this issue."
   ]
  },
  {
   "cell_type": "code",
   "execution_count": null,
   "metadata": {
    "ExecuteTime": {
     "end_time": "2019-06-06T04:27:21.049537Z",
     "start_time": "2019-06-06T04:27:20.995567Z"
    }
   },
   "outputs": [],
   "source": [
    " # print with NA & .dropna() & print after dropna"
   ]
  },
  {
   "cell_type": "markdown",
   "metadata": {
    "slideshow": {
     "slide_type": "subslide"
    }
   },
   "source": [
    "## 3.3 Selection of Data\n",
    "\n",
    "To get meaningful insights from the data, we try to **focus** only on a specific region of interest, achieved by extracting a smaller fraction from the big dataset. This is called subsetting. Selecting this subset requires us to select/specify that region via 3 entities, in order of importance: `column`, `row`, `data point`."
   ]
  },
  {
   "cell_type": "markdown",
   "metadata": {
    "slideshow": {
     "slide_type": "subslide"
    }
   },
   "source": [
    "### Row selection by index\n",
    "A more meaningful row selection method is by *'Boolean Masking'*"
   ]
  },
  {
   "cell_type": "code",
   "execution_count": null,
   "metadata": {
    "ExecuteTime": {
     "end_time": "2019-06-06T04:27:21.073524Z",
     "start_time": "2019-06-06T04:27:21.053533Z"
    }
   },
   "outputs": [],
   "source": [
    " # indexing"
   ]
  },
  {
   "cell_type": "markdown",
   "metadata": {
    "slideshow": {
     "slide_type": "subslide"
    }
   },
   "source": [
    "### Data point selection by position index\n",
    "\n",
    "`.iloc[]` is the primary attribute for selection by absolute position along index and columns.\n",
    "Here 'i' in 'iloc' means 'implicit' indexing"
   ]
  },
  {
   "cell_type": "code",
   "execution_count": null,
   "metadata": {
    "ExecuteTime": {
     "end_time": "2019-06-06T04:27:21.112500Z",
     "start_time": "2019-06-06T04:27:21.077519Z"
    }
   },
   "outputs": [],
   "source": [
    " # position index"
   ]
  },
  {
   "cell_type": "markdown",
   "metadata": {},
   "source": [
    "Compare this against the output of `data.head()`. Do you see any resemblance? What happened here?"
   ]
  },
  {
   "cell_type": "markdown",
   "metadata": {
    "slideshow": {
     "slide_type": "subslide"
    }
   },
   "source": [
    "### Column selection"
   ]
  },
  {
   "cell_type": "code",
   "execution_count": null,
   "metadata": {
    "ExecuteTime": {
     "end_time": "2019-06-06T04:27:21.137484Z",
     "start_time": "2019-06-06T04:27:21.116500Z"
    },
    "scrolled": true
   },
   "outputs": [],
   "source": [
    " # select by variable"
   ]
  },
  {
   "cell_type": "markdown",
   "metadata": {},
   "source": [
    "### exercise\n",
    "use .iloc[] to repalce .head() and .tail()"
   ]
  },
  {
   "cell_type": "code",
   "execution_count": null,
   "metadata": {},
   "outputs": [],
   "source": [
    " # .head()"
   ]
  },
  {
   "cell_type": "code",
   "execution_count": null,
   "metadata": {},
   "outputs": [],
   "source": [
    " # .tail()"
   ]
  },
  {
   "cell_type": "markdown",
   "metadata": {
    "slideshow": {
     "slide_type": "slide"
    }
   },
   "source": [
    "# 4. Matplotlib"
   ]
  },
  {
   "cell_type": "code",
   "execution_count": null,
   "metadata": {
    "ExecuteTime": {
     "end_time": "2019-06-06T04:27:21.176463Z",
     "start_time": "2019-06-06T04:27:21.141483Z"
    },
    "slideshow": {
     "slide_type": "fragment"
    }
   },
   "outputs": [],
   "source": [
    "%matplotlib inline\n",
    "import matplotlib.pyplot as plt"
   ]
  },
  {
   "cell_type": "code",
   "execution_count": null,
   "metadata": {
    "ExecuteTime": {
     "end_time": "2019-06-06T04:27:21.195452Z",
     "start_time": "2019-06-06T04:27:21.179461Z"
    }
   },
   "outputs": [],
   "source": [
    " # randn"
   ]
  },
  {
   "cell_type": "code",
   "execution_count": null,
   "metadata": {},
   "outputs": [],
   "source": [
    "plt.plot(s1)"
   ]
  },
  {
   "cell_type": "markdown",
   "metadata": {
    "slideshow": {
     "slide_type": "subslide"
    }
   },
   "source": [
    "## 4.1. Importance of visualizations\n",
    "Suppose we create 1000 random profit values to illustrate net profits of a company in a period of 1000 days"
   ]
  },
  {
   "cell_type": "code",
   "execution_count": null,
   "metadata": {
    "ExecuteTime": {
     "end_time": "2019-06-06T04:27:21.235430Z",
     "start_time": "2019-06-06T04:27:21.198451Z"
    },
    "slideshow": {
     "slide_type": "fragment"
    }
   },
   "outputs": [],
   "source": [
    "# Create a Series\n",
    "s = pd.Series(np.random.randn(1000), index=pd.date_range('1/1/2015', periods=1000))"
   ]
  },
  {
   "cell_type": "code",
   "execution_count": null,
   "metadata": {
    "ExecuteTime": {
     "end_time": "2019-06-06T04:27:21.855079Z",
     "start_time": "2019-06-06T04:27:21.239427Z"
    }
   },
   "outputs": [],
   "source": []
  },
  {
   "cell_type": "markdown",
   "metadata": {
    "slideshow": {
     "slide_type": "subslide"
    }
   },
   "source": [
    "What difference does it make if we create a graphical representation of it?"
   ]
  },
  {
   "cell_type": "code",
   "execution_count": null,
   "metadata": {
    "ExecuteTime": {
     "end_time": "2019-06-06T04:27:22.175893Z",
     "start_time": "2019-06-06T04:27:21.858072Z"
    },
    "slideshow": {
     "slide_type": "fragment"
    }
   },
   "outputs": [],
   "source": [
    " # cumulative sum .cumsum()"
   ]
  },
  {
   "cell_type": "code",
   "execution_count": null,
   "metadata": {},
   "outputs": [],
   "source": []
  },
  {
   "cell_type": "markdown",
   "metadata": {
    "slideshow": {
     "slide_type": "subslide"
    }
   },
   "source": [
    "## 4.2. Continuous vs Discrete\n",
    "\n",
    "+ Continuous: Age, Length, Area (sqft), pH\n",
    "+ Discrete: LastName, Gender, Country, Postcode\n",
    "\n",
    "**Exercise:** Imagine you are an officer in Singapore Department of Statistics and you are compiling a report about the demography of Singapore. Based on the continuous and discrete variables mentioned in the examples above, what kind of questions will be tickling your mind?"
   ]
  },
  {
   "cell_type": "markdown",
   "metadata": {
    "slideshow": {
     "slide_type": "subslide"
    }
   },
   "source": [
    "## 4.3. 1D plots"
   ]
  },
  {
   "cell_type": "code",
   "execution_count": null,
   "metadata": {
    "ExecuteTime": {
     "end_time": "2019-06-06T04:27:22.468722Z",
     "start_time": "2019-06-06T04:27:22.179888Z"
    },
    "scrolled": true,
    "slideshow": {
     "slide_type": "fragment"
    }
   },
   "outputs": [],
   "source": [
    "# Create a plot figure (empty canvas)\n",
    "\n",
    "# Construct histogram from continuous data\n",
    "\n",
    "# <-- try changing these .hist(bins=20, color = 'orange')\n",
    "\n",
    "# Labeling the figure"
   ]
  },
  {
   "cell_type": "markdown",
   "metadata": {
    "slideshow": {
     "slide_type": "fragment"
    }
   },
   "source": [
    "What inference can you draw from this histogram?"
   ]
  },
  {
   "cell_type": "markdown",
   "metadata": {
    "slideshow": {
     "slide_type": "subslide"
    }
   },
   "source": [
    "## 4.4. 2D plots"
   ]
  },
  {
   "cell_type": "markdown",
   "metadata": {
    "slideshow": {
     "slide_type": "fragment"
    }
   },
   "source": [
    "**Scatter plot**\n",
    "\n",
    "Plot values from two variables along two axes to identify possible relationships between them"
   ]
  },
  {
   "cell_type": "code",
   "execution_count": null,
   "metadata": {
    "ExecuteTime": {
     "end_time": "2019-06-06T04:27:22.478718Z",
     "start_time": "2019-06-06T04:27:22.471720Z"
    },
    "slideshow": {
     "slide_type": "skip"
    }
   },
   "outputs": [],
   "source": [
    " # x .linspace & y = 2x + randn"
   ]
  },
  {
   "cell_type": "code",
   "execution_count": null,
   "metadata": {
    "ExecuteTime": {
     "end_time": "2019-06-06T04:27:22.739566Z",
     "start_time": "2019-06-06T04:27:22.483713Z"
    },
    "slideshow": {
     "slide_type": "fragment"
    }
   },
   "outputs": [],
   "source": [
    " # empty figure\n",
    " # plt.scatter\n",
    " # labels"
   ]
  },
  {
   "cell_type": "code",
   "execution_count": null,
   "metadata": {},
   "outputs": [],
   "source": []
  }
 ],
 "metadata": {
  "colab": {
   "name": "basic_python.ipynb",
   "provenance": [],
   "toc_visible": true,
   "version": "0.3.2"
  },
  "kernelspec": {
   "display_name": "Python 3",
   "language": "python",
   "name": "python3"
  },
  "language_info": {
   "codemirror_mode": {
    "name": "ipython",
    "version": 3
   },
   "file_extension": ".py",
   "mimetype": "text/x-python",
   "name": "python",
   "nbconvert_exporter": "python",
   "pygments_lexer": "ipython3",
   "version": "3.7.3"
  },
  "toc": {
   "base_numbering": 1,
   "nav_menu": {},
   "number_sections": true,
   "sideBar": true,
   "skip_h1_title": false,
   "title_cell": "Table of Contents",
   "title_sidebar": "Contents",
   "toc_cell": false,
   "toc_position": {
    "height": "calc(100% - 180px)",
    "left": "10px",
    "top": "150px",
    "width": "248px"
   },
   "toc_section_display": true,
   "toc_window_display": true
  }
 },
 "nbformat": 4,
 "nbformat_minor": 1
}
