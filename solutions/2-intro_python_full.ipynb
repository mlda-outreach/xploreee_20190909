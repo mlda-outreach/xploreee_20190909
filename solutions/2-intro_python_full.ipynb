{
 "cells": [
  {
   "cell_type": "markdown",
   "metadata": {},
   "source": [
    "# Part 2 - Python Basics"
   ]
  },
  {
   "cell_type": "markdown",
   "metadata": {},
   "source": [
    "# Outline\n",
    "\n",
    "**1. Before Tutorial**\n",
    "+ Tut 1a: Suggestions\n",
    "+ Tut 1b: Introduction to Jupyter Notebook\n",
    "\n",
    "\n",
    "**2. Python Basics** \n",
    "+ Tut 2a: Data Types\n",
    "+ Tut 2b: Flow Control\n",
    "+ Tut 2c: Loops\n",
    "+ Tut 2d: Function\n",
    "+ Exercises"
   ]
  },
  {
   "cell_type": "markdown",
   "metadata": {},
   "source": [
    "# Before Tutorial\n",
    "## Tut 1a. Suggestions "
   ]
  },
  {
   "cell_type": "markdown",
   "metadata": {},
   "source": [
    "+ Try every code in the tutorial\n",
    "+ In the class, interrupt me any time if you have any questions\n",
    "+ After class, search by Google first if you meet any problem"
   ]
  },
  {
   "cell_type": "markdown",
   "metadata": {},
   "source": [
    "## Tut 1b. Introduction to Jupyter Notebook"
   ]
  },
  {
   "cell_type": "markdown",
   "metadata": {
    "collapsed": true
   },
   "source": [
    "*Notebook Document* (.ipynb): Notebook documents are both human-readable documents containing the analysis description and the results (figures, tables, etc..) as well as executable documents which can be run to perform data analysis. \n",
    "\n",
    "*Jupyter Notebook*: The Jupyter Notebook App is a server-client application that allows editing and running notebook documents via a web browser. The basic component of Jupyter Notebook is cell.\n",
    "\n",
    "+ `Markdown Cell` for Rich Text ( [Tutorial](https://www.markdowntutorial.com) )\n",
    "+ `Code Cell` for Excutable Code"
   ]
  },
  {
   "cell_type": "markdown",
   "metadata": {},
   "source": [
    "### This is a simple Markdown example\n",
    "\n",
    "we can make a list:\n",
    "+ The core Python language\n",
    "+ 100+ Packages (toolbox)\n",
    "+ Jupyter Notebook and Spyder\n",
    "+ `conda` package manager\n",
    "\n",
    "we can attach a link:\n",
    "  [link here](http://www.ntu.edu.sg/Pages/home.aspx)"
   ]
  },
  {
   "cell_type": "markdown",
   "metadata": {},
   "source": [
    "### This is an example of excutable document (code)"
   ]
  },
  {
   "cell_type": "code",
   "execution_count": 1,
   "metadata": {
    "ExecuteTime": {
     "end_time": "2019-09-08T07:30:10.019559Z",
     "start_time": "2019-09-08T07:30:10.015950Z"
    }
   },
   "outputs": [
    {
     "name": "stdout",
     "output_type": "stream",
     "text": [
      "I love NTU\n",
      "I love Data Science\n",
      "I love Python!!!\n"
     ]
    }
   ],
   "source": [
    "print(\"I love NTU\")    # basic output statement in Python\n",
    "print(\"I love Data Science\")\n",
    "print(\"I love Python!!!\")"
   ]
  },
  {
   "cell_type": "markdown",
   "metadata": {},
   "source": [
    "### Comments\n",
    "Comments start with a `#`, and Python will render the rest of the line as a comment. For example:\n",
    "```\n",
    "# This is a comment\n",
    "```"
   ]
  },
  {
   "cell_type": "markdown",
   "metadata": {
    "collapsed": true
   },
   "source": [
    "# 2. Python Basics\n",
    "## Tut 2a. Data Types"
   ]
  },
  {
   "cell_type": "markdown",
   "metadata": {},
   "source": [
    "### Basic Data Types and Their Operations\n",
    "+ Data Type      : `Integer`, `Float`, `String`, `Bool`\n",
    "+ Data Structure : `List`, `Dictionary`\n"
   ]
  },
  {
   "cell_type": "markdown",
   "metadata": {},
   "source": [
    "##### Integer"
   ]
  },
  {
   "cell_type": "code",
   "execution_count": 2,
   "metadata": {
    "ExecuteTime": {
     "end_time": "2019-09-08T07:30:10.029726Z",
     "start_time": "2019-09-08T07:30:10.025433Z"
    }
   },
   "outputs": [
    {
     "name": "stdout",
     "output_type": "stream",
     "text": [
      "a = 1 , b = 2\n"
     ]
    }
   ],
   "source": [
    "a = 1 # define a integer\n",
    "b = 2 # another integer\n",
    "\n",
    "print(\"a =\", a, \", b =\", b)"
   ]
  },
  {
   "cell_type": "code",
   "execution_count": 3,
   "metadata": {
    "ExecuteTime": {
     "end_time": "2019-09-08T07:30:10.038255Z",
     "start_time": "2019-09-08T07:30:10.031849Z"
    }
   },
   "outputs": [
    {
     "name": "stdout",
     "output_type": "stream",
     "text": [
      "a + b = 3\n"
     ]
    }
   ],
   "source": [
    "add_c = a + b # addition of two integers\n",
    "print(\"a + b =\", add_c)"
   ]
  },
  {
   "cell_type": "code",
   "execution_count": 4,
   "metadata": {
    "ExecuteTime": {
     "end_time": "2019-09-08T07:30:10.051537Z",
     "start_time": "2019-09-08T07:30:10.040366Z"
    }
   },
   "outputs": [
    {
     "name": "stdout",
     "output_type": "stream",
     "text": [
      "a - b = -1\n"
     ]
    }
   ],
   "source": [
    "sub_c = a - b # substraction of two integers\n",
    "print(\"a - b =\", sub_c)"
   ]
  },
  {
   "cell_type": "code",
   "execution_count": 5,
   "metadata": {
    "ExecuteTime": {
     "end_time": "2019-09-08T07:30:10.059962Z",
     "start_time": "2019-09-08T07:30:10.053667Z"
    }
   },
   "outputs": [
    {
     "name": "stdout",
     "output_type": "stream",
     "text": [
      "a * b = 2\n"
     ]
    }
   ],
   "source": [
    "mul_c = a * b # multiplication of two integers\n",
    "print(\"a * b =\", mul_c)"
   ]
  },
  {
   "cell_type": "code",
   "execution_count": 6,
   "metadata": {
    "ExecuteTime": {
     "end_time": "2019-09-08T07:30:10.072845Z",
     "start_time": "2019-09-08T07:30:10.061421Z"
    }
   },
   "outputs": [
    {
     "name": "stdout",
     "output_type": "stream",
     "text": [
      "a / b = 0.5\n"
     ]
    }
   ],
   "source": [
    "div_c = a / b # division of two integers\n",
    "print(\"a / b =\", div_c)"
   ]
  },
  {
   "cell_type": "markdown",
   "metadata": {},
   "source": [
    "##### Float"
   ]
  },
  {
   "cell_type": "code",
   "execution_count": 7,
   "metadata": {
    "ExecuteTime": {
     "end_time": "2019-09-08T07:30:10.080651Z",
     "start_time": "2019-09-08T07:30:10.074000Z"
    }
   },
   "outputs": [
    {
     "name": "stdout",
     "output_type": "stream",
     "text": [
      "a = 1.0 , b = 2\n"
     ]
    }
   ],
   "source": [
    "a = 1.0  # define a float (decimal)\n",
    "b = 2    # a integer\n",
    "\n",
    "print(\"a =\", a, \", b =\", b)"
   ]
  },
  {
   "cell_type": "code",
   "execution_count": 8,
   "metadata": {
    "ExecuteTime": {
     "end_time": "2019-09-08T07:30:10.095766Z",
     "start_time": "2019-09-08T07:30:10.081802Z"
    }
   },
   "outputs": [
    {
     "name": "stdout",
     "output_type": "stream",
     "text": [
      "a + b = 3.0\n"
     ]
    }
   ],
   "source": [
    "add_c = a + b # addition of two floats\n",
    "print(\"a + b =\", add_c)"
   ]
  },
  {
   "cell_type": "code",
   "execution_count": 9,
   "metadata": {
    "ExecuteTime": {
     "end_time": "2019-09-08T07:30:10.103508Z",
     "start_time": "2019-09-08T07:30:10.097314Z"
    }
   },
   "outputs": [
    {
     "name": "stdout",
     "output_type": "stream",
     "text": [
      "a - b = -1.0\n"
     ]
    }
   ],
   "source": [
    "sub_c = a - b # substraction of two floats\n",
    "print(\"a - b =\", sub_c)"
   ]
  },
  {
   "cell_type": "code",
   "execution_count": 10,
   "metadata": {
    "ExecuteTime": {
     "end_time": "2019-09-08T07:30:10.116138Z",
     "start_time": "2019-09-08T07:30:10.105036Z"
    }
   },
   "outputs": [
    {
     "name": "stdout",
     "output_type": "stream",
     "text": [
      "a * b = 2.0\n"
     ]
    }
   ],
   "source": [
    "mul_c = a * b # multiplication of two floats\n",
    "print(\"a * b =\", mul_c)"
   ]
  },
  {
   "cell_type": "code",
   "execution_count": 11,
   "metadata": {
    "ExecuteTime": {
     "end_time": "2019-09-08T07:30:10.132710Z",
     "start_time": "2019-09-08T07:30:10.117237Z"
    }
   },
   "outputs": [
    {
     "name": "stdout",
     "output_type": "stream",
     "text": [
      "a / b = 0.5\n"
     ]
    }
   ],
   "source": [
    "div_c = a / b # division of two integers\n",
    "print(\"a / b =\", div_c)"
   ]
  },
  {
   "cell_type": "markdown",
   "metadata": {},
   "source": [
    "##### String"
   ]
  },
  {
   "cell_type": "code",
   "execution_count": 12,
   "metadata": {
    "ExecuteTime": {
     "end_time": "2019-09-08T07:30:10.139963Z",
     "start_time": "2019-09-08T07:30:10.133815Z"
    }
   },
   "outputs": [
    {
     "name": "stdout",
     "output_type": "stream",
     "text": [
      "I love XXX\n"
     ]
    }
   ],
   "source": [
    "s = \"I love \"       # define a string\n",
    "something = 'XXX'   # another string\n",
    "\n",
    "print(s + something) # 'addition' of strings"
   ]
  },
  {
   "cell_type": "markdown",
   "metadata": {},
   "source": [
    "##### Bool\n",
    "`True` and `False`"
   ]
  },
  {
   "cell_type": "code",
   "execution_count": 13,
   "metadata": {
    "ExecuteTime": {
     "end_time": "2019-09-08T07:30:10.148117Z",
     "start_time": "2019-09-08T07:30:10.141055Z"
    }
   },
   "outputs": [
    {
     "name": "stdout",
     "output_type": "stream",
     "text": [
      "a = True , b = False\n",
      "From Condition Statement\n",
      "a = False , b = True\n"
     ]
    }
   ],
   "source": [
    "a = True  # define a bool\n",
    "b = False # another bool\n",
    "print(\"a =\", a, \", b =\", b)\n",
    "\n",
    "# Condition Statement\n",
    "a = (2 > 3)\n",
    "b = (2 == 2)\n",
    "print(\"From Condition Statement\")\n",
    "print(\"a =\", a, \", b =\", b)"
   ]
  },
  {
   "cell_type": "code",
   "execution_count": 14,
   "metadata": {
    "ExecuteTime": {
     "end_time": "2019-09-08T07:30:10.155504Z",
     "start_time": "2019-09-08T07:30:10.149219Z"
    }
   },
   "outputs": [
    {
     "name": "stdout",
     "output_type": "stream",
     "text": [
      "a = True , b = False\n"
     ]
    }
   ],
   "source": [
    "# Let's do another example\n",
    "a = True  # define a bool\n",
    "b = False # another bool\n",
    "print(\"a =\", a, \", b =\", b)"
   ]
  },
  {
   "cell_type": "code",
   "execution_count": 15,
   "metadata": {
    "ExecuteTime": {
     "end_time": "2019-09-08T07:30:10.167486Z",
     "start_time": "2019-09-08T07:30:10.156616Z"
    }
   },
   "outputs": [
    {
     "name": "stdout",
     "output_type": "stream",
     "text": [
      "a and b = False\n"
     ]
    }
   ],
   "source": [
    "# logic operation\n",
    "and_c = a and b # \"and\" operation of two bool variables\n",
    "print(\"a and b =\", and_c)"
   ]
  },
  {
   "cell_type": "code",
   "execution_count": 16,
   "metadata": {
    "ExecuteTime": {
     "end_time": "2019-09-08T07:30:10.174702Z",
     "start_time": "2019-09-08T07:30:10.168581Z"
    }
   },
   "outputs": [
    {
     "name": "stdout",
     "output_type": "stream",
     "text": [
      "a or b  = True\n"
     ]
    }
   ],
   "source": [
    "or_c  = a or b  # \"or\" operation of two bool variables\n",
    "print(\"a or b  =\", or_c)"
   ]
  },
  {
   "cell_type": "code",
   "execution_count": 17,
   "metadata": {
    "ExecuteTime": {
     "end_time": "2019-09-08T07:30:10.182620Z",
     "start_time": "2019-09-08T07:30:10.175791Z"
    }
   },
   "outputs": [
    {
     "name": "stdout",
     "output_type": "stream",
     "text": [
      "not a   = False\n"
     ]
    }
   ],
   "source": [
    "not_c = not a   # \"not\" operation of a bool variable\n",
    "print(\"not a   =\", not_c)"
   ]
  },
  {
   "cell_type": "markdown",
   "metadata": {},
   "source": [
    "## Tut 2b. Data Structures\n",
    "We will focus on two data structures today.\n",
    "+ *List* is a collection which is ordered and mutable. Allows duplicate members.\n",
    "+ *Dictionary* is a collection which is unordered, mutable and indexed. No duplicate members."
   ]
  },
  {
   "cell_type": "markdown",
   "metadata": {},
   "source": [
    "### List"
   ]
  },
  {
   "cell_type": "code",
   "execution_count": 18,
   "metadata": {
    "ExecuteTime": {
     "end_time": "2019-09-08T07:30:10.195372Z",
     "start_time": "2019-09-08T07:30:10.183718Z"
    }
   },
   "outputs": [
    {
     "name": "stdout",
     "output_type": "stream",
     "text": [
      "List of numbers   :  [2017, 10, 12, 15, 44, 55.0]\n",
      "List of strings   :  ['Andrew', 'Jordan', 'Hinton', 'LeCun']\n"
     ]
    }
   ],
   "source": [
    "# Define a list\n",
    "\n",
    "l_number = [2017, 10, 12, 15, 44, 55.0]             # a list of numbers\n",
    "l_string = ['Andrew', 'Jordan', 'Hinton', 'LeCun']  # a list of strings\n",
    "\n",
    "print(\"List of numbers   : \", l_number)\n",
    "print(\"List of strings   : \", l_string)"
   ]
  },
  {
   "cell_type": "markdown",
   "metadata": {},
   "source": [
    "##### Indexing of list\n",
    "* use a integer with a bracket `[]`\n",
    "* index starts from `0`"
   ]
  },
  {
   "cell_type": "code",
   "execution_count": 19,
   "metadata": {
    "ExecuteTime": {
     "end_time": "2019-09-08T07:30:10.202794Z",
     "start_time": "2019-09-08T07:30:10.196469Z"
    }
   },
   "outputs": [
    {
     "name": "stdout",
     "output_type": "stream",
     "text": [
      "['Andrew', 'Jordan', 'Hinton', 'LeCun']\n"
     ]
    }
   ],
   "source": [
    "# 1. Indexing of list\n",
    "\n",
    "l_string = ['Andrew', 'Jordan', 'Hinton', 'LeCun']  # a list of strings\n",
    "#               0         1         2        3      positive indexing\n",
    "#              -4        -3        -2       -1      negative indexing\n",
    "print(l_string)"
   ]
  },
  {
   "cell_type": "code",
   "execution_count": 20,
   "metadata": {
    "ExecuteTime": {
     "end_time": "2019-09-08T07:30:10.215623Z",
     "start_time": "2019-09-08T07:30:10.203894Z"
    }
   },
   "outputs": [
    {
     "name": "stdout",
     "output_type": "stream",
     "text": [
      "< 1. Indexing of list >\n",
      "Positive Indexing : Andrew\n",
      "Negative Indexing : LeCun\n",
      "Slicing  : ['Andrew', 'Jordan']\n"
     ]
    }
   ],
   "source": [
    "# 1. Indexing of list\n",
    "\n",
    "print(\"< 1. Indexing of list >\")\n",
    "print(\"Positive Indexing :\", l_string[0])   # indexing, select the first string (positive index)\n",
    "print(\"Negative Indexing :\", l_string[-1])  # indexing, select the last string (negative index)\n",
    "print(\"Slicing  :\", l_string[0:2])          # slicing,  select the first and second string"
   ]
  },
  {
   "cell_type": "code",
   "execution_count": 21,
   "metadata": {
    "ExecuteTime": {
     "end_time": "2019-09-08T07:30:10.223289Z",
     "start_time": "2019-09-08T07:30:10.216715Z"
    }
   },
   "outputs": [
    {
     "name": "stdout",
     "output_type": "stream",
     "text": [
      "< 2. Change one of the elements >\n",
      "Original List    : ['Andrew', 'Jordan', 'Hinton', 'LeCun']\n",
      "Replace 'Jordan' : ['Andrew', 'Yoshua', 'Hinton', 'LeCun']\n"
     ]
    }
   ],
   "source": [
    "# 2. Change one of the elements\n",
    "\n",
    "print(\"< 2. Change one of the elements >\")\n",
    "print(\"Original List    :\", l_string)\n",
    "l_string[1] = 'Yoshua'\n",
    "print(\"Replace 'Jordan' :\", l_string)"
   ]
  },
  {
   "cell_type": "code",
   "execution_count": 22,
   "metadata": {
    "ExecuteTime": {
     "end_time": "2019-09-08T07:30:10.234999Z",
     "start_time": "2019-09-08T07:30:10.224388Z"
    }
   },
   "outputs": [
    {
     "name": "stdout",
     "output_type": "stream",
     "text": [
      "< 3. String is a list of char >\n",
      "Original string        : Andrew\n",
      "First character        : A\n",
      "2nd - 5th characters   : ndre\n",
      "2nd - End characters   : drew\n",
      "First - 3rd characters : And\n"
     ]
    }
   ],
   "source": [
    "# 3. String is a list of char (character)\n",
    "\n",
    "print (\"< 3. String is a list of char >\")\n",
    "s = 'Andrew'\n",
    "# 'A' 'n' 'd' 'r' 'e' 'w' \n",
    "#  0   1   2   3   4   5\n",
    "print (\"Original string        :\", s)\n",
    "print (\"First character        :\", s[0])    # select the first character\n",
    "print (\"2nd - 5th characters   :\", s[1:5])  # select the second to the Fifth character\n",
    "print (\"2nd - End characters   :\", s[2:])   # select the third character and the following characters in the string\n",
    "print (\"First - 3rd characters :\", s[:3])   # select the first, second and third characters in the string"
   ]
  },
  {
   "cell_type": "markdown",
   "metadata": {},
   "source": [
    "### Dictionary\n",
    "give each item a name ( indexing with a pre-defined 'name'， ***key*** )\n",
    "\n",
    "** { <span style=\"color:#FF8B33\">'key1'</span> : value1 , <span style=\"color:#FF8B33\">'key2'</span> : value2 , . . . , <span style=\"color:#FF8B33\">'keyN'</span> : valueN } **"
   ]
  },
  {
   "cell_type": "code",
   "execution_count": 23,
   "metadata": {
    "ExecuteTime": {
     "end_time": "2019-09-08T07:30:10.241155Z",
     "start_time": "2019-09-08T07:30:10.236238Z"
    }
   },
   "outputs": [
    {
     "name": "stdout",
     "output_type": "stream",
     "text": [
      "< 1. Define a dictionary >\n",
      "dictionary d : {'int': 1, 'float': 1.0, 'bool': True, '1': 'Andrew', '2': 'Hinton', '3': 'LeCun'}\n"
     ]
    }
   ],
   "source": [
    "# 1. Define a dictionary\n",
    "# define with a curly brace{}\n",
    "\n",
    "d = {'int':1, 'float':1.0, 'bool':True, '1': 'Andrew', '2':'Hinton', '3':'LeCun'}\n",
    "print (\"< 1. Define a dictionary >\")\n",
    "print (\"dictionary d :\", d)"
   ]
  },
  {
   "cell_type": "code",
   "execution_count": 24,
   "metadata": {
    "ExecuteTime": {
     "end_time": "2019-09-08T07:30:10.257939Z",
     "start_time": "2019-09-08T07:30:10.243472Z"
    }
   },
   "outputs": [
    {
     "data": {
      "text/plain": [
       "{'year': 2017}"
      ]
     },
     "execution_count": 24,
     "metadata": {},
     "output_type": "execute_result"
    }
   ],
   "source": [
    "# 2. Define an empty dictionary\n",
    "\n",
    "d_e = {}\n",
    "d_e['year']  = 2017\n",
    "d_e"
   ]
  },
  {
   "cell_type": "code",
   "execution_count": 25,
   "metadata": {
    "ExecuteTime": {
     "end_time": "2019-09-08T07:30:10.265643Z",
     "start_time": "2019-09-08T07:30:10.259941Z"
    }
   },
   "outputs": [
    {
     "name": "stdout",
     "output_type": "stream",
     "text": [
      "< 2. Define an empty dictionary >\n",
      "from an empty dictionary : {'year': 2017, 'month': 'October', 'day': 12}\n"
     ]
    }
   ],
   "source": [
    "# Add items to the dictionary\n",
    "\n",
    "d_e['month'] = 'October'\n",
    "d_e['day']   = 12\n",
    "print(\"< 2. Define an empty dictionary >\")\n",
    "print(\"from an empty dictionary :\", d_e)"
   ]
  },
  {
   "cell_type": "code",
   "execution_count": 26,
   "metadata": {
    "ExecuteTime": {
     "end_time": "2019-09-08T07:30:10.273095Z",
     "start_time": "2019-09-08T07:30:10.266791Z"
    }
   },
   "outputs": [
    {
     "name": "stdout",
     "output_type": "stream",
     "text": [
      "< 3. Indexing of dictionary >\n",
      "item 'int'     : 1\n",
      "item 'bool'    : True\n",
      "item '1''2''3' : Andrew Hinton LeCun\n"
     ]
    }
   ],
   "source": [
    "# 3. Indexing of dictionary\n",
    "# use a key with bracket []\n",
    "\n",
    "print (\"< 3. Indexing of dictionary >\")\n",
    "print (\"item 'int'     :\", d['int'])\n",
    "print (\"item 'bool'    :\", d['bool'])\n",
    "print (\"item '1''2''3' :\", d['1'], d['2'], d['3'])"
   ]
  },
  {
   "cell_type": "code",
   "execution_count": 27,
   "metadata": {
    "ExecuteTime": {
     "end_time": "2019-09-08T07:30:10.280562Z",
     "start_time": "2019-09-08T07:30:10.274209Z"
    }
   },
   "outputs": [
    {
     "name": "stdout",
     "output_type": "stream",
     "text": [
      "< 4. Replace value of an item >\n",
      "original dictionary : {'int': 1, 'float': 1.0, 'bool': True, '1': 'Andrew', '2': 'Hinton', '3': 'LeCun'}\n",
      "modified dictionary : {'int': 10, 'float': 1.0, 'bool': True, '1': 'Andrew', '2': 'Hinton', '3': 'LeCun'}\n"
     ]
    }
   ],
   "source": [
    "# 4. Replace value of an item\n",
    "\n",
    "print (\"< 4. Replace value of an item >\")\n",
    "print (\"original dictionary :\", d)\n",
    "d['int']  = 10\n",
    "print (\"modified dictionary :\", d)"
   ]
  },
  {
   "cell_type": "markdown",
   "metadata": {},
   "source": [
    "### List v.s. Dictionary\n",
    "<ul>\n",
    "    <li> Indexing in Dictionary is faster than List </li>\n",
    "    <li> Dictionary costs much more mermory than List </li>\n",
    "</ul>"
   ]
  },
  {
   "cell_type": "markdown",
   "metadata": {},
   "source": [
    "## Tut 2b. Flow Control"
   ]
  },
  {
   "cell_type": "markdown",
   "metadata": {},
   "source": [
    "### If Statement\n",
    "Run code based conditions\n",
    "<img src=\"res/if.png\">"
   ]
  },
  {
   "cell_type": "markdown",
   "metadata": {},
   "source": [
    "##### A Simple Example"
   ]
  },
  {
   "cell_type": "code",
   "execution_count": 28,
   "metadata": {
    "ExecuteTime": {
     "end_time": "2019-09-08T07:30:10.287499Z",
     "start_time": "2019-09-08T07:30:10.281650Z"
    }
   },
   "outputs": [
    {
     "name": "stdout",
     "output_type": "stream",
     "text": [
      "The condition is True\n"
     ]
    }
   ],
   "source": [
    "condition = True  # define a bool variable called \"condition\"\n",
    "\n",
    "if condition:\n",
    "    print (\"The condition is True\")\n",
    "else:\n",
    "    print (\"The condition is False\")"
   ]
  },
  {
   "cell_type": "code",
   "execution_count": 29,
   "metadata": {
    "ExecuteTime": {
     "end_time": "2019-09-08T07:30:10.294990Z",
     "start_time": "2019-09-08T07:30:10.288574Z"
    }
   },
   "outputs": [
    {
     "name": "stdout",
     "output_type": "stream",
     "text": [
      "b is greater than a\n"
     ]
    }
   ],
   "source": [
    "# Another example\n",
    "\n",
    "a = 33\n",
    "b = 200\n",
    "if b > a:\n",
    "    print(\"b is greater than a\")"
   ]
  },
  {
   "cell_type": "markdown",
   "metadata": {},
   "source": [
    "##### Using Condition Statement"
   ]
  },
  {
   "cell_type": "code",
   "execution_count": 30,
   "metadata": {
    "ExecuteTime": {
     "end_time": "2019-09-08T07:30:10.302367Z",
     "start_time": "2019-09-08T07:30:10.296110Z"
    }
   },
   "outputs": [
    {
     "name": "stdout",
     "output_type": "stream",
     "text": [
      "give him an apple\n"
     ]
    }
   ],
   "source": [
    "# define a float variable recording a student's height\n",
    "# if the student is higher than 160.0cm, he will be given an apple\n",
    "# if the student is lower than 160.0cm,  he will be given a banana\n",
    "\n",
    "height = 170.0  # the height of the student\n",
    "\n",
    "if height > 160.0:\n",
    "    print (\"give him an apple\")\n",
    "else:\n",
    "    print (\"give him a banana\")"
   ]
  },
  {
   "cell_type": "markdown",
   "metadata": {},
   "source": [
    "##### if, elif, else\n",
    "\n",
    " <ul>\n",
    "    <li> `if, else` is just binary-branch flow control statement. </li>\n",
    "    <li> For multi-branch flow control, we can use `if, elif, else`. </li>\n",
    "</ul>\n",
    "\n",
    "\n",
    "More complicated case:\n",
    "<img src=\"res/gpa.png\">"
   ]
  },
  {
   "cell_type": "code",
   "execution_count": 31,
   "metadata": {
    "ExecuteTime": {
     "end_time": "2019-09-08T07:30:10.312533Z",
     "start_time": "2019-09-08T07:30:10.303509Z"
    }
   },
   "outputs": [
    {
     "name": "stdout",
     "output_type": "stream",
     "text": [
      "Grade : C\n"
     ]
    }
   ],
   "source": [
    "# decide the grade of a student based on the score provided\n",
    "\n",
    "score = 75 # score of a student\n",
    "\n",
    "if   score >= 90:\n",
    "    print (\"Grade : A\")\n",
    "    \n",
    "elif score >= 80:\n",
    "    print (\"Grade : B\")\n",
    "    \n",
    "elif score >= 70:\n",
    "    print (\"Grade : C\")\n",
    "    \n",
    "elif score >= 60:\n",
    "    print (\"Grade : D\")\n",
    "\n",
    "else:\n",
    "    print (\"Grade : F (it's fine, keep trying!)\")"
   ]
  },
  {
   "cell_type": "markdown",
   "metadata": {},
   "source": [
    "## Tut 2c. Loops"
   ]
  },
  {
   "cell_type": "markdown",
   "metadata": {},
   "source": [
    "### For Loop\n",
    "Repeat codes many times, with a variable changing as the way we define\n",
    "<img src=\"res/for.png\">"
   ]
  },
  {
   "cell_type": "markdown",
   "metadata": {},
   "source": [
    "##### A simple example"
   ]
  },
  {
   "cell_type": "code",
   "execution_count": 32,
   "metadata": {
    "ExecuteTime": {
     "end_time": "2019-09-08T07:30:10.319902Z",
     "start_time": "2019-09-08T07:30:10.313539Z"
    }
   },
   "outputs": [
    {
     "name": "stdout",
     "output_type": "stream",
     "text": [
      "< 1. A simple example >\n",
      "0\n",
      "1\n",
      "2\n",
      "3\n"
     ]
    }
   ],
   "source": [
    "# print the iter_variable repeatedly with the value of iter_variable changed from 0 to 3\n",
    "\n",
    "# 1. A simple example\n",
    "\n",
    "print (\"< 1. A simple example >\")\n",
    "for iter_variable in [0, 1, 2, 3]:\n",
    "    print (iter_variable)"
   ]
  },
  {
   "cell_type": "code",
   "execution_count": 33,
   "metadata": {
    "ExecuteTime": {
     "end_time": "2019-09-08T07:30:10.327447Z",
     "start_time": "2019-09-08T07:30:10.320869Z"
    }
   },
   "outputs": [
    {
     "name": "stdout",
     "output_type": "stream",
     "text": [
      "< 2. A more convinient way >\n",
      "0\n",
      "1\n",
      "2\n",
      "3\n"
     ]
    }
   ],
   "source": [
    "# 2. A more convenient way\n",
    "\n",
    "print (\"< 2. A more convinient way >\")\n",
    "for iter_variable in range(4):   # we can change the number in range() to any positive integer\n",
    "    print (iter_variable)"
   ]
  },
  {
   "cell_type": "code",
   "execution_count": 34,
   "metadata": {
    "ExecuteTime": {
     "end_time": "2019-09-08T07:30:10.335430Z",
     "start_time": "2019-09-08T07:30:10.328419Z"
    }
   },
   "outputs": [
    {
     "name": "stdout",
     "output_type": "stream",
     "text": [
      "< 3. A flexible way >\n",
      "4\n",
      "3\n",
      "5\n",
      "7\n"
     ]
    }
   ],
   "source": [
    "# 3. A flexible way\n",
    "\n",
    "print (\"< 3. A flexible way >\")\n",
    "\n",
    "rangeList = [4, 3, 5, 7]\n",
    "\n",
    "for iter_variable in rangeList:\n",
    "    print (iter_variable)"
   ]
  },
  {
   "cell_type": "markdown",
   "metadata": {},
   "source": [
    "##### Repeat an operation"
   ]
  },
  {
   "cell_type": "code",
   "execution_count": 35,
   "metadata": {
    "ExecuteTime": {
     "end_time": "2019-09-08T07:30:10.342859Z",
     "start_time": "2019-09-08T07:30:10.336390Z"
    }
   },
   "outputs": [
    {
     "name": "stdout",
     "output_type": "stream",
     "text": [
      "< 1. The most naive way >\n",
      "sum from 1 to 10 : 55\n"
     ]
    }
   ],
   "source": [
    "# sum up the numbers from 1 to 10\n",
    "\n",
    "# 1. The most naive way\n",
    "\n",
    "print(\"< 1. The most naive way >\")\n",
    "sum_10 = 1 + 2 + 3 + 4 + 5 + 6 + 7 + 8 + 9 + 10\n",
    "print(\"sum from 1 to 10 :\", sum_10)"
   ]
  },
  {
   "cell_type": "code",
   "execution_count": 36,
   "metadata": {
    "ExecuteTime": {
     "end_time": "2019-09-08T07:30:10.350246Z",
     "start_time": "2019-09-08T07:30:10.343814Z"
    }
   },
   "outputs": [
    {
     "name": "stdout",
     "output_type": "stream",
     "text": [
      "< 2. The right way to do >\n",
      "sum from 1 to 10 : 55\n"
     ]
    }
   ],
   "source": [
    "# 2. The right way to do\n",
    "\n",
    "print (\"< 2. The right way to do >\")\n",
    "sum_10 = 0                    # define a variable to accumulate the numbers\n",
    "for i in range(10):\n",
    "    sum_10 = sum_10 + (i + 1)\n",
    "print (\"sum from 1 to 10 :\", sum_10)"
   ]
  },
  {
   "cell_type": "code",
   "execution_count": 37,
   "metadata": {
    "ExecuteTime": {
     "end_time": "2019-09-08T07:30:10.357987Z",
     "start_time": "2019-09-08T07:30:10.351297Z"
    }
   },
   "outputs": [
    {
     "name": "stdout",
     "output_type": "stream",
     "text": [
      "< 3. More numbers involved >\n",
      "sum from 1 to 1000 : 500500\n"
     ]
    }
   ],
   "source": [
    "# 3. More numbers involved\n",
    "\n",
    "print (\"< 3. More numbers involved >\")\n",
    "sum_1000 = 0                    # define a variable to accumulate the numbers\n",
    "for i in range(1000):\n",
    "    sum_1000 = sum_1000 + (i + 1)\n",
    "print (\"sum from 1 to 1000 :\", sum_1000)"
   ]
  },
  {
   "cell_type": "markdown",
   "metadata": {},
   "source": [
    "### While Loop\n",
    "Repeat codes until condition is not satisfied\n",
    "<img src=\"res/while.png\">"
   ]
  },
  {
   "cell_type": "markdown",
   "metadata": {},
   "source": [
    "##### A simple example"
   ]
  },
  {
   "cell_type": "code",
   "execution_count": 38,
   "metadata": {
    "ExecuteTime": {
     "end_time": "2019-09-08T07:30:10.365899Z",
     "start_time": "2019-09-08T07:30:10.358955Z"
    }
   },
   "outputs": [
    {
     "name": "stdout",
     "output_type": "stream",
     "text": [
      "sum from 1 to 100 : 5050\n"
     ]
    }
   ],
   "source": [
    "# sum up the numbers from 1 to 100\n",
    "\n",
    "counter = 1\n",
    "sum_100 = 0\n",
    "\n",
    "while counter <= 100:\n",
    "    sum_100 = sum_100 + counter\n",
    "    counter = counter + 1\n",
    "    \n",
    "print(\"sum from 1 to 100 :\", sum_100)\n",
    "\n",
    "    \n",
    "    \n",
    "# illustration code\n",
    "# counter = 1\n",
    "# sum_9   = 0\n",
    "# print \"counter\", \" sum_9\", '\\n'\n",
    "# while counter <= 9:\n",
    "#     sum_9 = sum_9 + counter\n",
    "#     print counter, \"         \", sum_9\n",
    "#     counter = counter + 1"
   ]
  },
  {
   "cell_type": "markdown",
   "metadata": {},
   "source": [
    "## Tut 2d. Function\n",
    "\n",
    "### Definition of Function\n",
    "Enclosing codes so that it can be called repeatedly and flexibly\n",
    "<img src=\"res/function.png\">"
   ]
  },
  {
   "cell_type": "code",
   "execution_count": 39,
   "metadata": {
    "ExecuteTime": {
     "end_time": "2019-09-08T07:30:10.381027Z",
     "start_time": "2019-09-08T07:30:10.366884Z"
    }
   },
   "outputs": [],
   "source": [
    "# 1. A simple example\n",
    "\n",
    "# define a function sum up numbers from 1 to n (n is the input parameter)\n",
    "def sumUp(n):          # user-defined function\n",
    "    \n",
    "    # initialize a variable\n",
    "    sum_n = 0\n",
    "    \n",
    "    # use \"for loop\" to implement sum up function, based on input parameter \"n\"\n",
    "    for i in range(n):\n",
    "        sum_n = sum_n + (i+1)\n",
    "    \n",
    "    # output the result, end of the function\n",
    "    return sum_n"
   ]
  },
  {
   "cell_type": "code",
   "execution_count": 40,
   "metadata": {
    "ExecuteTime": {
     "end_time": "2019-09-08T07:30:10.388751Z",
     "start_time": "2019-09-08T07:30:10.381994Z"
    }
   },
   "outputs": [
    {
     "name": "stdout",
     "output_type": "stream",
     "text": [
      "< 1. A simple example >\n",
      "Output of sumUp function : 55\n"
     ]
    }
   ],
   "source": [
    "# ================================================\n",
    "n = 10\n",
    "print (\"< 1. A simple example >\")\n",
    "print (\"Output of sumUp function :\", sumUp(n))\n",
    "# ================================================"
   ]
  },
  {
   "cell_type": "code",
   "execution_count": 41,
   "metadata": {
    "ExecuteTime": {
     "end_time": "2019-09-08T07:30:10.401425Z",
     "start_time": "2019-09-08T07:30:10.389708Z"
    }
   },
   "outputs": [
    {
     "name": "stdout",
     "output_type": "stream",
     "text": [
      "< 2. Multiple outputs >\n",
      "a + b = 3 + 5 = 8\n"
     ]
    }
   ],
   "source": [
    "# 2. Multiple iuputs\n",
    "\n",
    "# define a function sum up two input variables \"a\" and \"b\"\n",
    "def addUp(a, b):\n",
    "    \n",
    "    return a+b\n",
    "\n",
    "# ================================================\n",
    "a = 3\n",
    "b = 5\n",
    "print (\"< 2. Multiple outputs >\")\n",
    "print (\"a + b =\", a, \"+\", b, \"=\", addUp(a,b))\n",
    "# ================================================"
   ]
  },
  {
   "cell_type": "code",
   "execution_count": 42,
   "metadata": {
    "ExecuteTime": {
     "end_time": "2019-09-08T07:30:10.408630Z",
     "start_time": "2019-09-08T07:30:10.402410Z"
    }
   },
   "outputs": [
    {
     "name": "stdout",
     "output_type": "stream",
     "text": [
      "< 3. Multiple outputs >\n",
      "Output of sumMulUp function : 55 3628800\n"
     ]
    }
   ],
   "source": [
    "# 3. Multiple outputs\n",
    "\n",
    "# define a function sum up and multiple up numbers from 1 to n (n is the input parameter)\n",
    "\n",
    "def sumMulUp(n):\n",
    "    \n",
    "    # initialize two variables\n",
    "    sum_n = 0   # for summation\n",
    "    mul_n = 1   # for multiplication\n",
    "    \n",
    "    for i in range(n):\n",
    "        sum_n = sum_n + (i+1)\n",
    "        mul_n = mul_n * (i+1)\n",
    "    \n",
    "    # output two results, end of the function\n",
    "    return sum_n, mul_n\n",
    "\n",
    "# ================================================\n",
    "n = 10\n",
    "print (\"< 3. Multiple outputs >\")\n",
    "sum_n, mul_n = sumMulUp(n)\n",
    "print (\"Output of sumMulUp function :\", sum_n, mul_n)\n",
    "# ================================================"
   ]
  },
  {
   "cell_type": "markdown",
   "metadata": {},
   "source": [
    "### Built-in functions in Python"
   ]
  },
  {
   "cell_type": "markdown",
   "metadata": {},
   "source": [
    "##### for List and Dictionary"
   ]
  },
  {
   "cell_type": "code",
   "execution_count": 43,
   "metadata": {
    "ExecuteTime": {
     "end_time": "2019-09-08T07:30:10.416439Z",
     "start_time": "2019-09-08T07:30:10.409618Z"
    },
    "scrolled": true
   },
   "outputs": [
    {
     "name": "stdout",
     "output_type": "stream",
     "text": [
      "< 1. Generate a list >\n",
      "The generated list : \n",
      " [1, 5, 7, 0, 9, 2, 8, 3, 4, 6]\n"
     ]
    }
   ],
   "source": [
    "# ============== List ==================== \n",
    "\n",
    "# 1. Generate a list with numbers from 0 to 9 with random order\n",
    "\n",
    "import random # import a package that helps generate random number \n",
    "l = random.sample(range(10), 10)\n",
    "print (\"< 1. Generate a list >\")\n",
    "print (\"The generated list :\", '\\n', l)"
   ]
  },
  {
   "cell_type": "code",
   "execution_count": 44,
   "metadata": {
    "ExecuteTime": {
     "end_time": "2019-09-08T07:30:10.426753Z",
     "start_time": "2019-09-08T07:30:10.417393Z"
    }
   },
   "outputs": [
    {
     "name": "stdout",
     "output_type": "stream",
     "text": [
      "< 2. Check the length of a list >\n",
      "The length of generated list : 10\n"
     ]
    }
   ],
   "source": [
    "# 2. Check the length of the generated list\n",
    "\n",
    "len_l = len(l)                # \"global\" function\n",
    "print (\"< 2. Check the length of a list >\")\n",
    "print (\"The length of generated list :\", len_l)"
   ]
  },
  {
   "cell_type": "code",
   "execution_count": 45,
   "metadata": {
    "ExecuteTime": {
     "end_time": "2019-09-08T07:30:10.434667Z",
     "start_time": "2019-09-08T07:30:10.427695Z"
    }
   },
   "outputs": [
    {
     "name": "stdout",
     "output_type": "stream",
     "text": [
      "< 3. Find max and min >\n",
      "The max number of generated list : 9\n",
      "The min number of generated list : 0\n"
     ]
    }
   ],
   "source": [
    "# 3. Find the maximum and minimum number of the generated list\n",
    "\n",
    "max_l = max(l)                # \"global\" function\n",
    "min_l = min(l)\n",
    "print (\"< 3. Find max and min >\")\n",
    "print (\"The max number of generated list :\", max_l)\n",
    "print (\"The min number of generated list :\", min_l)"
   ]
  },
  {
   "cell_type": "code",
   "execution_count": 62,
   "metadata": {
    "ExecuteTime": {
     "end_time": "2019-09-08T07:32:20.893290Z",
     "start_time": "2019-09-08T07:32:20.888139Z"
    }
   },
   "outputs": [
    {
     "name": "stdout",
     "output_type": "stream",
     "text": [
      "< 4. Sort a list >\n",
      "The sorted list : [0, 1, 2, 3, 4, 5, 6, 7, 8, 9]\n"
     ]
    }
   ],
   "source": [
    "# 4. Sort the generated list in accending order\n",
    "\n",
    "l.sort()                      # member function\n",
    "                              # no return for this function\n",
    "print (\"< 4. Sort a list >\")\n",
    "print (\"The sorted list :\", l)"
   ]
  },
  {
   "cell_type": "code",
   "execution_count": 47,
   "metadata": {
    "ExecuteTime": {
     "end_time": "2019-09-08T07:30:10.454246Z",
     "start_time": "2019-09-08T07:30:10.442968Z"
    }
   },
   "outputs": [
    {
     "name": "stdout",
     "output_type": "stream",
     "text": [
      "< 5. Reverse a list >\n",
      "The reversed list : [6, 4, 3, 8, 2, 9, 0, 7, 5, 1]\n"
     ]
    }
   ],
   "source": [
    "# 5. Reverse the generated list\n",
    "\n",
    "l.reverse()                   # member function\n",
    "                              # no return for this function\n",
    "print (\"< 5. Reverse a list >\")\n",
    "print (\"The reversed list :\", l)"
   ]
  },
  {
   "cell_type": "code",
   "execution_count": 48,
   "metadata": {
    "ExecuteTime": {
     "end_time": "2019-09-08T07:30:10.464726Z",
     "start_time": "2019-09-08T07:30:10.455169Z"
    }
   },
   "outputs": [
    {
     "name": "stdout",
     "output_type": "stream",
     "text": [
      "< 6. Add a new item in list >\n",
      "The new list : [6, 4, 3, 8, 2, 9, 0, 7, 5, 1, 100]\n"
     ]
    }
   ],
   "source": [
    "# 6. Add a new item at the end of the list\n",
    "\n",
    "l.append(100)                 # member function\n",
    "                              # no return for this function\n",
    "print (\"< 6. Add a new item in list >\")\n",
    "print (\"The new list :\", l)"
   ]
  },
  {
   "cell_type": "code",
   "execution_count": 49,
   "metadata": {
    "ExecuteTime": {
     "end_time": "2019-09-08T07:30:10.473333Z",
     "start_time": "2019-09-08T07:30:10.465649Z"
    }
   },
   "outputs": [
    {
     "name": "stdout",
     "output_type": "stream",
     "text": [
      "< 7. Get index of a certain item in list >\n",
      "The index of 100 : 10\n"
     ]
    }
   ],
   "source": [
    "# 7. Get index of a certain item in list\n",
    "\n",
    "idx_100 = l.index(100)        # member function\n",
    "print (\"< 7. Get index of a certain item in list >\")\n",
    "print (\"The index of 100 :\", idx_100)"
   ]
  },
  {
   "cell_type": "code",
   "execution_count": 50,
   "metadata": {
    "ExecuteTime": {
     "end_time": "2019-09-08T07:30:10.482616Z",
     "start_time": "2019-09-08T07:30:10.474307Z"
    }
   },
   "outputs": [
    {
     "name": "stdout",
     "output_type": "stream",
     "text": [
      "< 8. Delete a item in list >\n",
      "The new list : [6, 4, 3, 8, 2, 9, 0, 7, 5, 1]\n"
     ]
    }
   ],
   "source": [
    "# 8. Delete a item in list\n",
    "\n",
    "del l[idx_100]                # member function\n",
    "print (\"< 8. Delete a item in list >\")\n",
    "print (\"The new list :\", l)"
   ]
  },
  {
   "cell_type": "code",
   "execution_count": 51,
   "metadata": {
    "ExecuteTime": {
     "end_time": "2019-09-08T07:30:10.489806Z",
     "start_time": "2019-09-08T07:30:10.483544Z"
    }
   },
   "outputs": [
    {
     "name": "stdout",
     "output_type": "stream",
     "text": [
      "< 1. Define a dictionary >\n",
      "The defined dictionary : {'name': 'Nanyang Technological University', 'location': 'Singapore', 'birth': 1991}\n"
     ]
    }
   ],
   "source": [
    "# ============== Dictionary ==================== \n",
    "\n",
    "# 1. Define a dictionary\n",
    "d = {'name':'Nanyang Technological University', 'location':'Singapore', 'birth':1990, 'birth':1991} # repeated name\n",
    "                                                                                      # the last one will be recorded\n",
    "print(\"< 1. Define a dictionary >\")\n",
    "print(\"The defined dictionary :\", d)"
   ]
  },
  {
   "cell_type": "code",
   "execution_count": 52,
   "metadata": {
    "ExecuteTime": {
     "end_time": "2019-09-08T07:30:10.500223Z",
     "start_time": "2019-09-08T07:30:10.490871Z"
    }
   },
   "outputs": [
    {
     "name": "stdout",
     "output_type": "stream",
     "text": [
      "< 2. Check the length of a dictionary >\n",
      "The length of generated dictionary : 3\n"
     ]
    }
   ],
   "source": [
    "# 2. Check the length of the generated dictionary\n",
    "\n",
    "len_d = len(d)                # \"global\" function\n",
    "print (\"< 2. Check the length of a dictionary >\")\n",
    "print (\"The length of generated dictionary :\", len_d)"
   ]
  },
  {
   "cell_type": "code",
   "execution_count": 53,
   "metadata": {
    "ExecuteTime": {
     "end_time": "2019-09-08T07:30:10.512454Z",
     "start_time": "2019-09-08T07:30:10.501147Z"
    }
   },
   "outputs": [
    {
     "name": "stdout",
     "output_type": "stream",
     "text": [
      "< 3. Check the key of all items in dictionary >\n",
      "The keys defined in the generated dictionary : dict_keys(['name', 'location', 'birth'])\n"
     ]
    }
   ],
   "source": [
    "# 3. Check the key of all items in a dictionary\n",
    "\n",
    "keys_d = d.keys()             # member function\n",
    "print (\"< 3. Check the key of all items in dictionary >\")\n",
    "print (\"The keys defined in the generated dictionary :\", keys_d)"
   ]
  },
  {
   "cell_type": "code",
   "execution_count": 54,
   "metadata": {
    "ExecuteTime": {
     "end_time": "2019-09-08T07:30:10.520529Z",
     "start_time": "2019-09-08T07:30:10.513402Z"
    }
   },
   "outputs": [
    {
     "name": "stdout",
     "output_type": "stream",
     "text": [
      "< 4. Check the value of all items in dictionary >\n",
      "The value of all items in the generated dictionary : dict_values(['Nanyang Technological University', 'Singapore', 1991])\n"
     ]
    }
   ],
   "source": [
    "# 4. Check the value of all items in a dictionary\n",
    "\n",
    "values_d = d.values()         # member function\n",
    "print (\"< 4. Check the value of all items in dictionary >\")\n",
    "print (\"The value of all items in the generated dictionary :\", values_d)"
   ]
  },
  {
   "cell_type": "code",
   "execution_count": 55,
   "metadata": {
    "ExecuteTime": {
     "end_time": "2019-09-08T07:30:10.528309Z",
     "start_time": "2019-09-08T07:30:10.521463Z"
    }
   },
   "outputs": [
    {
     "name": "stdout",
     "output_type": "stream",
     "text": [
      "< 5. Delete one item in a dictionary >\n",
      "The motified dictionary : {'name': 'Nanyang Technological University', 'birth': 1991}\n"
     ]
    }
   ],
   "source": [
    "# 5. Delete one item in a dictionary\n",
    "\n",
    "del d['location']             # member function\n",
    "                              # no return for this function\n",
    "print (\"< 5. Delete one item in a dictionary >\")\n",
    "print (\"The motified dictionary :\", d)"
   ]
  },
  {
   "cell_type": "code",
   "execution_count": 56,
   "metadata": {
    "ExecuteTime": {
     "end_time": "2019-09-08T07:30:10.536203Z",
     "start_time": "2019-09-08T07:30:10.529227Z"
    }
   },
   "outputs": [
    {
     "name": "stdout",
     "output_type": "stream",
     "text": [
      "< 6. Clear all items in a dictionary >\n",
      "The cleared dictionary : {}\n"
     ]
    }
   ],
   "source": [
    "# 6. Clear all items in a dictionary\n",
    "\n",
    "d.clear()                     # member function\n",
    "                              # no return for this function\n",
    "print (\"< 6. Clear all items in a dictionary >\")\n",
    "print (\"The cleared dictionary :\", d)"
   ]
  },
  {
   "cell_type": "markdown",
   "metadata": {},
   "source": [
    "## Exercises"
   ]
  },
  {
   "cell_type": "markdown",
   "metadata": {},
   "source": [
    "**Ex.1** Generate a list of dictionaries based on the following provided table\n",
    "\n",
    "| Country |  Population  |    Area   | GDPpCapita | Currency |\n",
    "|---------|:------------:|:---------:|:----------:|:--------:|\n",
    "|Singapore|  5,607,300   |   739.1   |    90.724  |   SGD    |\n",
    "|  U.S.A  |  325,365,189 | 9,833,520 |    57.220  |   USD    |\n",
    "|  China  |1,403,500,365 | 9,596,961 |    16.676  |   CNY    |"
   ]
  },
  {
   "cell_type": "code",
   "execution_count": 57,
   "metadata": {
    "ExecuteTime": {
     "end_time": "2019-09-08T07:30:10.546162Z",
     "start_time": "2019-09-08T07:30:10.537129Z"
    }
   },
   "outputs": [
    {
     "data": {
      "text/plain": [
       "[{'Country': 'Singapore',\n",
       "  'Population': 5607300,\n",
       "  'Area': 739.1,\n",
       "  'GDPpCapita': 90.724,\n",
       "  'Currency': 'SGD'},\n",
       " {'Country': 'USA',\n",
       "  'Population': 325365189,\n",
       "  'Area': 9833520,\n",
       "  'GDPpCapita': 52.22,\n",
       "  'Currency': 'USD'},\n",
       " {'Country': 'China',\n",
       "  'Population': 1403500365,\n",
       "  'Area': 9596961,\n",
       "  'GDPpCapita': 16.676,\n",
       "  'Currency': 'CNY'}]"
      ]
     },
     "execution_count": 57,
     "metadata": {},
     "output_type": "execute_result"
    }
   ],
   "source": [
    "# code for Ex.1\n",
    "\n",
    "singapore = {'Country':'Singapore', 'Population':5607300,    'Area':739.1,   'GDPpCapita':90.724, 'Currency':'SGD'}\n",
    "usa       = {'Country':'USA',       'Population':325365189,  'Area':9833520, 'GDPpCapita':52.220, 'Currency':'USD'}\n",
    "china     = {'Country':'China',     'Population':1403500365, 'Area':9596961, 'GDPpCapita':16.676, 'Currency':'CNY'}\n",
    "\n",
    "list_country = [singapore, usa, china]\n",
    "list_country"
   ]
  },
  {
   "cell_type": "markdown",
   "metadata": {},
   "source": [
    "**Ex.2** Print out the name and population of each country in the list of dictionaries created in Ex.2.1 by using *** `for loop` ***"
   ]
  },
  {
   "cell_type": "code",
   "execution_count": 58,
   "metadata": {
    "ExecuteTime": {
     "end_time": "2019-09-08T07:30:10.553552Z",
     "start_time": "2019-09-08T07:30:10.547166Z"
    }
   },
   "outputs": [
    {
     "name": "stdout",
     "output_type": "stream",
     "text": [
      "Country : Singapore \n",
      " Population : 5607300 \n",
      "\n",
      "Country : USA \n",
      " Population : 325365189 \n",
      "\n",
      "Country : China \n",
      " Population : 1403500365 \n",
      "\n"
     ]
    }
   ],
   "source": [
    "# code for Ex.2\n",
    "\n",
    "for i in list_country: \n",
    "    print('Country :', i['Country'], '\\n', \n",
    "          'Population :', i['Population'], '\\n')"
   ]
  },
  {
   "cell_type": "markdown",
   "metadata": {},
   "source": [
    "**Ex.3** Check out whether the area of China is greater than 10 million by using *** `if statement` ***, if the condition is satisfied print out 'YES', if not print out 'NO'"
   ]
  },
  {
   "cell_type": "code",
   "execution_count": 59,
   "metadata": {
    "ExecuteTime": {
     "end_time": "2019-09-08T07:30:10.562834Z",
     "start_time": "2019-09-08T07:30:10.554539Z"
    }
   },
   "outputs": [
    {
     "name": "stdout",
     "output_type": "stream",
     "text": [
      "NO\n"
     ]
    }
   ],
   "source": [
    "# code for Ex.3\n",
    "\n",
    "if list_country[2]['Area'] > 10000000:\n",
    "    print ('YES')\n",
    "else:\n",
    "    print ('NO')"
   ]
  },
  {
   "cell_type": "markdown",
   "metadata": {},
   "source": [
    "**Ex.4** Implement a function to pick out the countries that have the GDP per Capita greater than 50\n",
    "* Input  : the list of dictionaries created in Ex.1\n",
    "* Output : index of the country in the list (also print out the name of the country)\n",
    "* Function Name : pickOut\n",
    "\n",
    "\n",
    "* tips: by using **`for loop`** and **`if statement`**"
   ]
  },
  {
   "cell_type": "code",
   "execution_count": 60,
   "metadata": {
    "ExecuteTime": {
     "end_time": "2019-09-08T07:30:10.574467Z",
     "start_time": "2019-09-08T07:30:10.563816Z"
    }
   },
   "outputs": [
    {
     "name": "stdout",
     "output_type": "stream",
     "text": [
      "Singapore\n",
      "USA\n"
     ]
    }
   ],
   "source": [
    "# code for Ex.4\n",
    "\n",
    "def pickOut(list_country):\n",
    "    \n",
    "    l_selected = []\n",
    "    \n",
    "    for i in range(len(list_country)):\n",
    "        if list_country[i]['GDPpCapita'] > 50:\n",
    "            print (list_country[i]['Country'])\n",
    "\n",
    "pickOut(list_country)"
   ]
  }
 ],
 "metadata": {
  "kernelspec": {
   "display_name": "Python 3",
   "language": "python",
   "name": "python3"
  },
  "language_info": {
   "codemirror_mode": {
    "name": "ipython",
    "version": 3
   },
   "file_extension": ".py",
   "mimetype": "text/x-python",
   "name": "python",
   "nbconvert_exporter": "python",
   "pygments_lexer": "ipython3",
   "version": "3.6.8"
  },
  "toc": {
   "base_numbering": 1,
   "nav_menu": {},
   "number_sections": true,
   "sideBar": true,
   "skip_h1_title": false,
   "title_cell": "Table of Contents",
   "title_sidebar": "Contents",
   "toc_cell": false,
   "toc_position": {
    "height": "calc(100% - 180px)",
    "left": "10px",
    "top": "150px",
    "width": "384px"
   },
   "toc_section_display": true,
   "toc_window_display": false
  }
 },
 "nbformat": 4,
 "nbformat_minor": 2
}
